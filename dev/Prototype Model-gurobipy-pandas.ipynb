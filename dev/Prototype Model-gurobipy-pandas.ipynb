{
 "cells": [
  {
   "cell_type": "code",
   "execution_count": 1,
   "id": "9f92dd46",
   "metadata": {},
   "outputs": [],
   "source": [
    "%load_ext blackcellmagic"
   ]
  },
  {
   "cell_type": "code",
   "execution_count": 2,
   "id": "cc7597ff-341c-4abb-8a49-cf865303c349",
   "metadata": {},
   "outputs": [],
   "source": [
    "import pandas as pd\n",
    "import gurobipy as grb\n",
    "import gurobipy_pandas as gpd"
   ]
  },
  {
   "cell_type": "markdown",
   "id": "3eef2a57-e87f-46d3-b743-ac5835eb09b4",
   "metadata": {
    "tags": []
   },
   "source": [
    "### Data Sets\n",
    "\n",
    "* Let $\\mathcal T$ be the set of tasks that need to be completed.\n",
    "\n",
    "### Data Inputs\n",
    "\n",
    "* Let $\\eta_t \\ge 0$ be the number of hours for a task $t\\in\\mathcal T$."
   ]
  },
  {
   "cell_type": "code",
   "execution_count": 3,
   "id": "f938463b-a3f5-4c73-b510-ee5bce7829db",
   "metadata": {},
   "outputs": [
    {
     "data": {
      "text/html": [
       "<div>\n",
       "<style scoped>\n",
       "    .dataframe tbody tr th:only-of-type {\n",
       "        vertical-align: middle;\n",
       "    }\n",
       "\n",
       "    .dataframe tbody tr th {\n",
       "        vertical-align: top;\n",
       "    }\n",
       "\n",
       "    .dataframe thead th {\n",
       "        text-align: right;\n",
       "    }\n",
       "</style>\n",
       "<table border=\"1\" class=\"dataframe\">\n",
       "  <thead>\n",
       "    <tr style=\"text-align: right;\">\n",
       "      <th></th>\n",
       "      <th>Time</th>\n",
       "    </tr>\n",
       "    <tr>\n",
       "      <th>Task</th>\n",
       "      <th></th>\n",
       "    </tr>\n",
       "  </thead>\n",
       "  <tbody>\n",
       "    <tr>\n",
       "      <th>1</th>\n",
       "      <td>4</td>\n",
       "    </tr>\n",
       "    <tr>\n",
       "      <th>2</th>\n",
       "      <td>3</td>\n",
       "    </tr>\n",
       "    <tr>\n",
       "      <th>3</th>\n",
       "      <td>1</td>\n",
       "    </tr>\n",
       "    <tr>\n",
       "      <th>4</th>\n",
       "      <td>3</td>\n",
       "    </tr>\n",
       "    <tr>\n",
       "      <th>5</th>\n",
       "      <td>3</td>\n",
       "    </tr>\n",
       "    <tr>\n",
       "      <th>6</th>\n",
       "      <td>3</td>\n",
       "    </tr>\n",
       "    <tr>\n",
       "      <th>7</th>\n",
       "      <td>5</td>\n",
       "    </tr>\n",
       "    <tr>\n",
       "      <th>8</th>\n",
       "      <td>1</td>\n",
       "    </tr>\n",
       "    <tr>\n",
       "      <th>9</th>\n",
       "      <td>2</td>\n",
       "    </tr>\n",
       "    <tr>\n",
       "      <th>10</th>\n",
       "      <td>3</td>\n",
       "    </tr>\n",
       "    <tr>\n",
       "      <th>11</th>\n",
       "      <td>5</td>\n",
       "    </tr>\n",
       "    <tr>\n",
       "      <th>12</th>\n",
       "      <td>2</td>\n",
       "    </tr>\n",
       "    <tr>\n",
       "      <th>13</th>\n",
       "      <td>5</td>\n",
       "    </tr>\n",
       "    <tr>\n",
       "      <th>14</th>\n",
       "      <td>2</td>\n",
       "    </tr>\n",
       "    <tr>\n",
       "      <th>15</th>\n",
       "      <td>2</td>\n",
       "    </tr>\n",
       "    <tr>\n",
       "      <th>16</th>\n",
       "      <td>3</td>\n",
       "    </tr>\n",
       "    <tr>\n",
       "      <th>17</th>\n",
       "      <td>4</td>\n",
       "    </tr>\n",
       "    <tr>\n",
       "      <th>18</th>\n",
       "      <td>5</td>\n",
       "    </tr>\n",
       "    <tr>\n",
       "      <th>19</th>\n",
       "      <td>1</td>\n",
       "    </tr>\n",
       "    <tr>\n",
       "      <th>20</th>\n",
       "      <td>4</td>\n",
       "    </tr>\n",
       "  </tbody>\n",
       "</table>\n",
       "</div>"
      ],
      "text/plain": [
       "      Time\n",
       "Task      \n",
       "1        4\n",
       "2        3\n",
       "3        1\n",
       "4        3\n",
       "5        3\n",
       "6        3\n",
       "7        5\n",
       "8        1\n",
       "9        2\n",
       "10       3\n",
       "11       5\n",
       "12       2\n",
       "13       5\n",
       "14       2\n",
       "15       2\n",
       "16       3\n",
       "17       4\n",
       "18       5\n",
       "19       1\n",
       "20       4"
      ]
     },
     "metadata": {},
     "output_type": "display_data"
    }
   ],
   "source": [
    "tasks = pd.read_excel(\"../data/data.xlsx\", \n",
    "                      sheet_name=\"Tasks\", \n",
    "                      index_col=0)\n",
    "display(tasks)"
   ]
  },
  {
   "cell_type": "markdown",
   "id": "a51fb731-6ed0-4bb3-b3b2-8a2cd9d78ef1",
   "metadata": {
    "tags": []
   },
   "source": [
    "### Data Sets\n",
    "\n",
    "* Let $\\mathcal G$ be the set of resource groups.\n",
    "\n",
    "### Data Inputs\n",
    "\n",
    "* Let $\\alpha_g \\ge 0$ be the minimum number of tasks, $t\\in\\mathcal T$, that a resource group $g\\in\\mathcal G$ can work in one day.\n",
    "* Let $\\beta_g \\ge 0$ be the maximum number of tasks, $t\\in\\mathcal T$, that a resource group $g\\in\\mathcal G$ can work in one day.\n"
   ]
  },
  {
   "cell_type": "code",
   "execution_count": 4,
   "id": "69ed0dd1-2ac3-42ca-801f-86ac915c770c",
   "metadata": {},
   "outputs": [
    {
     "data": {
      "text/html": [
       "<div>\n",
       "<style scoped>\n",
       "    .dataframe tbody tr th:only-of-type {\n",
       "        vertical-align: middle;\n",
       "    }\n",
       "\n",
       "    .dataframe tbody tr th {\n",
       "        vertical-align: top;\n",
       "    }\n",
       "\n",
       "    .dataframe thead th {\n",
       "        text-align: right;\n",
       "    }\n",
       "</style>\n",
       "<table border=\"1\" class=\"dataframe\">\n",
       "  <thead>\n",
       "    <tr style=\"text-align: right;\">\n",
       "      <th></th>\n",
       "      <th>MinTasks</th>\n",
       "      <th>MaxTasks</th>\n",
       "    </tr>\n",
       "    <tr>\n",
       "      <th>ResourceGroup</th>\n",
       "      <th></th>\n",
       "      <th></th>\n",
       "    </tr>\n",
       "  </thead>\n",
       "  <tbody>\n",
       "    <tr>\n",
       "      <th>Tiger</th>\n",
       "      <td>3</td>\n",
       "      <td>9</td>\n",
       "    </tr>\n",
       "    <tr>\n",
       "      <th>Lion</th>\n",
       "      <td>3</td>\n",
       "      <td>13</td>\n",
       "    </tr>\n",
       "    <tr>\n",
       "      <th>Cougar</th>\n",
       "      <td>3</td>\n",
       "      <td>3</td>\n",
       "    </tr>\n",
       "  </tbody>\n",
       "</table>\n",
       "</div>"
      ],
      "text/plain": [
       "               MinTasks  MaxTasks\n",
       "ResourceGroup                    \n",
       "Tiger                 3         9\n",
       "Lion                  3        13\n",
       "Cougar                3         3"
      ]
     },
     "execution_count": 4,
     "metadata": {},
     "output_type": "execute_result"
    }
   ],
   "source": [
    "resource_groups = pd.read_excel(\"../data/data.xlsx\", sheet_name='Resource Groups', index_col=0)\n",
    "resource_groups"
   ]
  },
  {
   "cell_type": "markdown",
   "id": "83f2fb18-a84a-44cc-94da-21627b6d9f66",
   "metadata": {},
   "source": [
    "### Data Sets\n",
    "\n",
    "* Let $\\mathcal R$ be the set of resources that can complete the tasks.\n",
    "* Let $\\mathcal S_g$ be the set of resources that belong to resource group $g \\in\\mathcal G$.\n",
    "\n",
    "### Data Inputs\n",
    "\n",
    "* Let $\\lambda_r \\ge 0$ be the cost per hour for a resource $r\\in\\mathcal R$.\n",
    "* Let $\\gamma_r \\ge 0$ be the number of hours that a resource $r\\in\\mathcal R$ can work in one day."
   ]
  },
  {
   "cell_type": "code",
   "execution_count": 5,
   "id": "0c9c0ad3-7993-4891-a0e0-38de333ee563",
   "metadata": {},
   "outputs": [
    {
     "data": {
      "text/html": [
       "<div>\n",
       "<style scoped>\n",
       "    .dataframe tbody tr th:only-of-type {\n",
       "        vertical-align: middle;\n",
       "    }\n",
       "\n",
       "    .dataframe tbody tr th {\n",
       "        vertical-align: top;\n",
       "    }\n",
       "\n",
       "    .dataframe thead th {\n",
       "        text-align: right;\n",
       "    }\n",
       "</style>\n",
       "<table border=\"1\" class=\"dataframe\">\n",
       "  <thead>\n",
       "    <tr style=\"text-align: right;\">\n",
       "      <th></th>\n",
       "      <th>HoursAvailable</th>\n",
       "      <th>CostPerHour</th>\n",
       "      <th>ResourceGroup</th>\n",
       "    </tr>\n",
       "    <tr>\n",
       "      <th>Resource</th>\n",
       "      <th></th>\n",
       "      <th></th>\n",
       "      <th></th>\n",
       "    </tr>\n",
       "  </thead>\n",
       "  <tbody>\n",
       "    <tr>\n",
       "      <th>A</th>\n",
       "      <td>9</td>\n",
       "      <td>21</td>\n",
       "      <td>Cougar</td>\n",
       "    </tr>\n",
       "    <tr>\n",
       "      <th>B</th>\n",
       "      <td>15</td>\n",
       "      <td>22</td>\n",
       "      <td>Tiger</td>\n",
       "    </tr>\n",
       "    <tr>\n",
       "      <th>C</th>\n",
       "      <td>13</td>\n",
       "      <td>29</td>\n",
       "      <td>Lion</td>\n",
       "    </tr>\n",
       "    <tr>\n",
       "      <th>D</th>\n",
       "      <td>14</td>\n",
       "      <td>28</td>\n",
       "      <td>Tiger</td>\n",
       "    </tr>\n",
       "    <tr>\n",
       "      <th>E</th>\n",
       "      <td>13</td>\n",
       "      <td>24</td>\n",
       "      <td>Lion</td>\n",
       "    </tr>\n",
       "    <tr>\n",
       "      <th>F</th>\n",
       "      <td>7</td>\n",
       "      <td>18</td>\n",
       "      <td>Lion</td>\n",
       "    </tr>\n",
       "  </tbody>\n",
       "</table>\n",
       "</div>"
      ],
      "text/plain": [
       "          HoursAvailable  CostPerHour ResourceGroup\n",
       "Resource                                           \n",
       "A                      9           21        Cougar\n",
       "B                     15           22         Tiger\n",
       "C                     13           29          Lion\n",
       "D                     14           28         Tiger\n",
       "E                     13           24          Lion\n",
       "F                      7           18          Lion"
      ]
     },
     "execution_count": 5,
     "metadata": {},
     "output_type": "execute_result"
    }
   ],
   "source": [
    "resources = pd.read_excel(\"../data/data.xlsx\", \n",
    "                          sheet_name='Resources',\n",
    "                          index_col=0)\n",
    "resources"
   ]
  },
  {
   "cell_type": "markdown",
   "id": "4498dce4-cdb7-4cee-9a29-59ee4015b4a1",
   "metadata": {},
   "source": [
    "### Data Sets\n",
    "\n",
    "* Let $\\mathcal Q_r$ be the set of tasks that resource $r\\in\\mathcal R$ can perform.\n",
    "* Let $\\mathcal P_t$ be the set of resources that a task $t\\in\\mathcal T$ can be assigned to."
   ]
  },
  {
   "cell_type": "code",
   "execution_count": 6,
   "id": "d51360d0-2341-4f92-ae8d-342d6c387df7",
   "metadata": {},
   "outputs": [
    {
     "data": {
      "text/html": [
       "<div>\n",
       "<style scoped>\n",
       "    .dataframe tbody tr th:only-of-type {\n",
       "        vertical-align: middle;\n",
       "    }\n",
       "\n",
       "    .dataframe tbody tr th {\n",
       "        vertical-align: top;\n",
       "    }\n",
       "\n",
       "    .dataframe thead th {\n",
       "        text-align: right;\n",
       "    }\n",
       "</style>\n",
       "<table border=\"1\" class=\"dataframe\">\n",
       "  <thead>\n",
       "    <tr style=\"text-align: right;\">\n",
       "      <th></th>\n",
       "      <th></th>\n",
       "    </tr>\n",
       "    <tr>\n",
       "      <th>Task</th>\n",
       "      <th>Resource</th>\n",
       "    </tr>\n",
       "  </thead>\n",
       "  <tbody>\n",
       "    <tr>\n",
       "      <th rowspan=\"5\" valign=\"top\">1</th>\n",
       "      <th>A</th>\n",
       "    </tr>\n",
       "    <tr>\n",
       "      <th>E</th>\n",
       "    </tr>\n",
       "    <tr>\n",
       "      <th>D</th>\n",
       "    </tr>\n",
       "    <tr>\n",
       "      <th>C</th>\n",
       "    </tr>\n",
       "    <tr>\n",
       "      <th>B</th>\n",
       "    </tr>\n",
       "    <tr>\n",
       "      <th>...</th>\n",
       "      <th>...</th>\n",
       "    </tr>\n",
       "    <tr>\n",
       "      <th rowspan=\"3\" valign=\"top\">19</th>\n",
       "      <th>D</th>\n",
       "    </tr>\n",
       "    <tr>\n",
       "      <th>B</th>\n",
       "    </tr>\n",
       "    <tr>\n",
       "      <th>E</th>\n",
       "    </tr>\n",
       "    <tr>\n",
       "      <th rowspan=\"2\" valign=\"top\">20</th>\n",
       "      <th>A</th>\n",
       "    </tr>\n",
       "    <tr>\n",
       "      <th>F</th>\n",
       "    </tr>\n",
       "  </tbody>\n",
       "</table>\n",
       "<p>68 rows × 0 columns</p>\n",
       "</div>"
      ],
      "text/plain": [
       "Empty DataFrame\n",
       "Columns: []\n",
       "Index: [(1, A), (1, E), (1, D), (1, C), (1, B), (2, F), (2, E), (2, D), (3, E), (4, C), (4, B), (4, D), (4, A), (5, B), (6, F), (6, A), (7, F), (7, D), (8, B), (8, E), (8, A), (8, F), (8, D), (9, F), (9, B), (9, E), (10, A), (10, D), (10, C), (11, E), (11, F), (11, D), (12, D), (12, B), (12, E), (12, A), (12, C), (13, F), (13, D), (13, C), (14, F), (14, D), (14, E), (14, A), (14, B), (15, D), (15, C), (15, F), (15, B), (16, E), (16, C), (16, A), (16, D), (16, F), (17, A), (17, D), (17, E), (17, C), (17, B), (18, C), (18, A), (18, D), (19, A), (19, D), (19, B), (19, E), (20, A), (20, F)]\n",
       "\n",
       "[68 rows x 0 columns]"
      ]
     },
     "execution_count": 6,
     "metadata": {},
     "output_type": "execute_result"
    }
   ],
   "source": [
    "res_task = pd.read_excel(\"../data/data.xlsx\", sheet_name='Tasks For Resources', index_col=[1,0]).drop(columns='CanPerform').sort_values(\"Task\")\n",
    "res_task"
   ]
  },
  {
   "cell_type": "markdown",
   "id": "6b29b88f-2e71-4eb3-bdee-1c406c1cd5ba",
   "metadata": {},
   "source": [
    "## Data Validation"
   ]
  },
  {
   "cell_type": "code",
   "execution_count": 7,
   "id": "5cb6639c-fa1c-4066-8d0a-3597b81bdac6",
   "metadata": {},
   "outputs": [],
   "source": [
    "assert (\n",
    "    tasks[\"Time\"].max() < resources[\"HoursAvailable\"].max()\n",
    "), f\"The max task time {tasks['Time'].max()} exceeds the maximum resource availability {resources['HoursAvailable'].max()}\""
   ]
  },
  {
   "cell_type": "code",
   "execution_count": 8,
   "id": "5dc4aceb-7b59-44b0-bf9a-0eec26e74763",
   "metadata": {},
   "outputs": [],
   "source": [
    "P = res_task.groupby('Task').agg(list)\n",
    "assert len(tasks) <= len(\n",
    "    P\n",
    "), f\"Not all tasks have resources that can schedule them: \"f\"{', '.join([str(t) for t in set(tasks.index)- set(P.index)])}\""
   ]
  },
  {
   "cell_type": "code",
   "execution_count": 9,
   "id": "81cc942a-14ac-47fe-ac19-aaaf4f16c89a",
   "metadata": {},
   "outputs": [],
   "source": [
    "assert (\n",
    "    tasks[\"Time\"].sum() < resources[\"HoursAvailable\"].sum()\n",
    "), f\"Total Task Time: {tasks['Time'].sum()} Total Resource Time: {resources['HoursAvailable'].sum()}\""
   ]
  },
  {
   "cell_type": "markdown",
   "id": "52247cc2-2499-479f-b7fe-e0abcd60d8ea",
   "metadata": {},
   "source": [
    "### Data Transformation\n",
    "\n",
    "* Let $\\theta_{rt}$ be the cost for a resource $r\\in\\mathcal R$ performing a task $t\\in\\mathcal T$.\n",
    "\n",
    "$$ \\theta_{rt} = \\eta_t \\cdot \\lambda_r \\qquad\\forall r\\in\\mathcal R,\\,t\\in\\mathcal T$$"
   ]
  },
  {
   "cell_type": "code",
   "execution_count": 10,
   "id": "e28cf245",
   "metadata": {},
   "outputs": [
    {
     "data": {
      "text/html": [
       "<div>\n",
       "<style scoped>\n",
       "    .dataframe tbody tr th:only-of-type {\n",
       "        vertical-align: middle;\n",
       "    }\n",
       "\n",
       "    .dataframe tbody tr th {\n",
       "        vertical-align: top;\n",
       "    }\n",
       "\n",
       "    .dataframe thead th {\n",
       "        text-align: right;\n",
       "    }\n",
       "</style>\n",
       "<table border=\"1\" class=\"dataframe\">\n",
       "  <thead>\n",
       "    <tr style=\"text-align: right;\">\n",
       "      <th></th>\n",
       "      <th></th>\n",
       "      <th>CostPerHour</th>\n",
       "      <th>Time</th>\n",
       "      <th>theta</th>\n",
       "    </tr>\n",
       "    <tr>\n",
       "      <th>Task</th>\n",
       "      <th>Resource</th>\n",
       "      <th></th>\n",
       "      <th></th>\n",
       "      <th></th>\n",
       "    </tr>\n",
       "  </thead>\n",
       "  <tbody>\n",
       "    <tr>\n",
       "      <th rowspan=\"5\" valign=\"top\">1</th>\n",
       "      <th>A</th>\n",
       "      <td>21</td>\n",
       "      <td>4</td>\n",
       "      <td>84</td>\n",
       "    </tr>\n",
       "    <tr>\n",
       "      <th>E</th>\n",
       "      <td>24</td>\n",
       "      <td>4</td>\n",
       "      <td>96</td>\n",
       "    </tr>\n",
       "    <tr>\n",
       "      <th>D</th>\n",
       "      <td>28</td>\n",
       "      <td>4</td>\n",
       "      <td>112</td>\n",
       "    </tr>\n",
       "    <tr>\n",
       "      <th>C</th>\n",
       "      <td>29</td>\n",
       "      <td>4</td>\n",
       "      <td>116</td>\n",
       "    </tr>\n",
       "    <tr>\n",
       "      <th>B</th>\n",
       "      <td>22</td>\n",
       "      <td>4</td>\n",
       "      <td>88</td>\n",
       "    </tr>\n",
       "    <tr>\n",
       "      <th>...</th>\n",
       "      <th>...</th>\n",
       "      <td>...</td>\n",
       "      <td>...</td>\n",
       "      <td>...</td>\n",
       "    </tr>\n",
       "    <tr>\n",
       "      <th rowspan=\"3\" valign=\"top\">19</th>\n",
       "      <th>D</th>\n",
       "      <td>28</td>\n",
       "      <td>1</td>\n",
       "      <td>28</td>\n",
       "    </tr>\n",
       "    <tr>\n",
       "      <th>B</th>\n",
       "      <td>22</td>\n",
       "      <td>1</td>\n",
       "      <td>22</td>\n",
       "    </tr>\n",
       "    <tr>\n",
       "      <th>E</th>\n",
       "      <td>24</td>\n",
       "      <td>1</td>\n",
       "      <td>24</td>\n",
       "    </tr>\n",
       "    <tr>\n",
       "      <th rowspan=\"2\" valign=\"top\">20</th>\n",
       "      <th>A</th>\n",
       "      <td>21</td>\n",
       "      <td>4</td>\n",
       "      <td>84</td>\n",
       "    </tr>\n",
       "    <tr>\n",
       "      <th>F</th>\n",
       "      <td>18</td>\n",
       "      <td>4</td>\n",
       "      <td>72</td>\n",
       "    </tr>\n",
       "  </tbody>\n",
       "</table>\n",
       "<p>68 rows × 3 columns</p>\n",
       "</div>"
      ],
      "text/plain": [
       "               CostPerHour  Time  theta\n",
       "Task Resource                          \n",
       "1    A                  21     4     84\n",
       "     E                  24     4     96\n",
       "     D                  28     4    112\n",
       "     C                  29     4    116\n",
       "     B                  22     4     88\n",
       "...                    ...   ...    ...\n",
       "19   D                  28     1     28\n",
       "     B                  22     1     22\n",
       "     E                  24     1     24\n",
       "20   A                  21     4     84\n",
       "     F                  18     4     72\n",
       "\n",
       "[68 rows x 3 columns]"
      ]
     },
     "execution_count": 10,
     "metadata": {},
     "output_type": "execute_result"
    }
   ],
   "source": [
    "(res_task.merge(resources[[\"CostPerHour\"]], \n",
    "           how=\"left\", left_on=\"Resource\", \n",
    "           right_index=True)\n",
    "    .merge(tasks[[\"Time\"]], how=\"left\", \n",
    "           left_on=\"Task\", right_index=True)\n",
    "    .assign(theta=lambda df: df[\"CostPerHour\"] * df[\"Time\"]))"
   ]
  },
  {
   "cell_type": "code",
   "execution_count": 11,
   "id": "415360cd-fdce-4b07-a0aa-0bf35fe46252",
   "metadata": {},
   "outputs": [
    {
     "data": {
      "text/html": [
       "<div>\n",
       "<style scoped>\n",
       "    .dataframe tbody tr th:only-of-type {\n",
       "        vertical-align: middle;\n",
       "    }\n",
       "\n",
       "    .dataframe tbody tr th {\n",
       "        vertical-align: top;\n",
       "    }\n",
       "\n",
       "    .dataframe thead th {\n",
       "        text-align: right;\n",
       "    }\n",
       "</style>\n",
       "<table border=\"1\" class=\"dataframe\">\n",
       "  <thead>\n",
       "    <tr style=\"text-align: right;\">\n",
       "      <th></th>\n",
       "      <th></th>\n",
       "      <th>theta</th>\n",
       "    </tr>\n",
       "    <tr>\n",
       "      <th>Task</th>\n",
       "      <th>Resource</th>\n",
       "      <th></th>\n",
       "    </tr>\n",
       "  </thead>\n",
       "  <tbody>\n",
       "    <tr>\n",
       "      <th rowspan=\"5\" valign=\"top\">1</th>\n",
       "      <th>A</th>\n",
       "      <td>84</td>\n",
       "    </tr>\n",
       "    <tr>\n",
       "      <th>B</th>\n",
       "      <td>88</td>\n",
       "    </tr>\n",
       "    <tr>\n",
       "      <th>C</th>\n",
       "      <td>116</td>\n",
       "    </tr>\n",
       "    <tr>\n",
       "      <th>D</th>\n",
       "      <td>112</td>\n",
       "    </tr>\n",
       "    <tr>\n",
       "      <th>E</th>\n",
       "      <td>96</td>\n",
       "    </tr>\n",
       "    <tr>\n",
       "      <th>...</th>\n",
       "      <th>...</th>\n",
       "      <td>...</td>\n",
       "    </tr>\n",
       "    <tr>\n",
       "      <th rowspan=\"3\" valign=\"top\">19</th>\n",
       "      <th>B</th>\n",
       "      <td>22</td>\n",
       "    </tr>\n",
       "    <tr>\n",
       "      <th>D</th>\n",
       "      <td>28</td>\n",
       "    </tr>\n",
       "    <tr>\n",
       "      <th>E</th>\n",
       "      <td>24</td>\n",
       "    </tr>\n",
       "    <tr>\n",
       "      <th rowspan=\"2\" valign=\"top\">20</th>\n",
       "      <th>A</th>\n",
       "      <td>84</td>\n",
       "    </tr>\n",
       "    <tr>\n",
       "      <th>F</th>\n",
       "      <td>72</td>\n",
       "    </tr>\n",
       "  </tbody>\n",
       "</table>\n",
       "<p>68 rows × 1 columns</p>\n",
       "</div>"
      ],
      "text/plain": [
       "               theta\n",
       "Task Resource       \n",
       "1    A            84\n",
       "     B            88\n",
       "     C           116\n",
       "     D           112\n",
       "     E            96\n",
       "...              ...\n",
       "19   B            22\n",
       "     D            28\n",
       "     E            24\n",
       "20   A            84\n",
       "     F            72\n",
       "\n",
       "[68 rows x 1 columns]"
      ]
     },
     "execution_count": 11,
     "metadata": {},
     "output_type": "execute_result"
    }
   ],
   "source": [
    "theta = (\n",
    "    res_task\n",
    "    .merge(resources[[\"CostPerHour\"]], \n",
    "           how=\"left\", left_on=\"Resource\", \n",
    "           right_index=True)\n",
    "    .merge(tasks[[\"Time\"]], how=\"left\", \n",
    "           left_on=\"Task\", right_index=True)\n",
    "    .assign(theta=lambda df: df[\"CostPerHour\"] * df[\"Time\"])[\"theta\"]\n",
    ")\n",
    "theta.to_frame(\"theta\").sort_index()"
   ]
  },
  {
   "cell_type": "code",
   "execution_count": 12,
   "id": "053f07ad-eb0a-4374-bc5b-e83d77f182ee",
   "metadata": {},
   "outputs": [
    {
     "name": "stdout",
     "output_type": "stream",
     "text": [
      "Set parameter TokenServer to value \"gurobi.princeton.com\"\n"
     ]
    }
   ],
   "source": [
    "m = grb.Model('task_assign')"
   ]
  },
  {
   "cell_type": "markdown",
   "id": "ede0b630-a078-4715-8871-7ec10e001fc6",
   "metadata": {},
   "source": [
    "### Decision Variables\n",
    "\n",
    "* Let $x_{rt}\\in\\{0, 1\\}$ be one if the resource $r\\in\\mathcal R$ is assigned to perform task $t\\in\\mathcal T$, 0 otherwise.\n",
    "* Let $y_g\\in \\mathbb{Z} \\ge 0$ be the number of tasks assigned to resources in $g\\in\\mathcal G$."
   ]
  },
  {
   "cell_type": "code",
   "execution_count": 13,
   "id": "3e421260-5875-40a7-acad-91de4e63fcdd",
   "metadata": {},
   "outputs": [
    {
     "data": {
      "text/html": [
       "<div>\n",
       "<style scoped>\n",
       "    .dataframe tbody tr th:only-of-type {\n",
       "        vertical-align: middle;\n",
       "    }\n",
       "\n",
       "    .dataframe tbody tr th {\n",
       "        vertical-align: top;\n",
       "    }\n",
       "\n",
       "    .dataframe thead th {\n",
       "        text-align: right;\n",
       "    }\n",
       "</style>\n",
       "<table border=\"1\" class=\"dataframe\">\n",
       "  <thead>\n",
       "    <tr style=\"text-align: right;\">\n",
       "      <th></th>\n",
       "      <th></th>\n",
       "      <th>x</th>\n",
       "    </tr>\n",
       "    <tr>\n",
       "      <th>Task</th>\n",
       "      <th>Resource</th>\n",
       "      <th></th>\n",
       "    </tr>\n",
       "  </thead>\n",
       "  <tbody>\n",
       "    <tr>\n",
       "      <th rowspan=\"4\" valign=\"top\">4</th>\n",
       "      <th>C</th>\n",
       "      <td>&lt;gurobi.Var x[4,C]&gt;</td>\n",
       "    </tr>\n",
       "    <tr>\n",
       "      <th>B</th>\n",
       "      <td>&lt;gurobi.Var x[4,B]&gt;</td>\n",
       "    </tr>\n",
       "    <tr>\n",
       "      <th>D</th>\n",
       "      <td>&lt;gurobi.Var x[4,D]&gt;</td>\n",
       "    </tr>\n",
       "    <tr>\n",
       "      <th>A</th>\n",
       "      <td>&lt;gurobi.Var x[4,A]&gt;</td>\n",
       "    </tr>\n",
       "    <tr>\n",
       "      <th>5</th>\n",
       "      <th>B</th>\n",
       "      <td>&lt;gurobi.Var x[5,B]&gt;</td>\n",
       "    </tr>\n",
       "  </tbody>\n",
       "</table>\n",
       "</div>"
      ],
      "text/plain": [
       "                                 x\n",
       "Task Resource                     \n",
       "4    C         <gurobi.Var x[4,C]>\n",
       "     B         <gurobi.Var x[4,B]>\n",
       "     D         <gurobi.Var x[4,D]>\n",
       "     A         <gurobi.Var x[4,A]>\n",
       "5    B         <gurobi.Var x[5,B]>"
      ]
     },
     "execution_count": 13,
     "metadata": {},
     "output_type": "execute_result"
    }
   ],
   "source": [
    "x = gpd.add_vars(m, res_task.index, name=\"x\", vtype=grb.GRB.BINARY)\n",
    "m.update()\n",
    "x.to_frame('x').query(\"Task in [4,5]\")"
   ]
  },
  {
   "cell_type": "code",
   "execution_count": 14,
   "id": "43535049-3f52-415d-863f-0244b6477091",
   "metadata": {},
   "outputs": [
    {
     "data": {
      "text/html": [
       "<div>\n",
       "<style scoped>\n",
       "    .dataframe tbody tr th:only-of-type {\n",
       "        vertical-align: middle;\n",
       "    }\n",
       "\n",
       "    .dataframe tbody tr th {\n",
       "        vertical-align: top;\n",
       "    }\n",
       "\n",
       "    .dataframe thead th {\n",
       "        text-align: right;\n",
       "    }\n",
       "</style>\n",
       "<table border=\"1\" class=\"dataframe\">\n",
       "  <thead>\n",
       "    <tr style=\"text-align: right;\">\n",
       "      <th></th>\n",
       "      <th>y</th>\n",
       "    </tr>\n",
       "    <tr>\n",
       "      <th>ResourceGroup</th>\n",
       "      <th></th>\n",
       "    </tr>\n",
       "  </thead>\n",
       "  <tbody>\n",
       "    <tr>\n",
       "      <th>Tiger</th>\n",
       "      <td>&lt;gurobi.Var y[Tiger]&gt;</td>\n",
       "    </tr>\n",
       "    <tr>\n",
       "      <th>Lion</th>\n",
       "      <td>&lt;gurobi.Var y[Lion]&gt;</td>\n",
       "    </tr>\n",
       "    <tr>\n",
       "      <th>Cougar</th>\n",
       "      <td>&lt;gurobi.Var y[Cougar]&gt;</td>\n",
       "    </tr>\n",
       "  </tbody>\n",
       "</table>\n",
       "</div>"
      ],
      "text/plain": [
       "                                    y\n",
       "ResourceGroup                        \n",
       "Tiger           <gurobi.Var y[Tiger]>\n",
       "Lion             <gurobi.Var y[Lion]>\n",
       "Cougar         <gurobi.Var y[Cougar]>"
      ]
     },
     "execution_count": 14,
     "metadata": {},
     "output_type": "execute_result"
    }
   ],
   "source": [
    "y = resource_groups.gppd.add_vars(m, vtype=grb.GRB.INTEGER, name=\"y\")['y']\n",
    "m.update()\n",
    "y.to_frame(\"y\")"
   ]
  },
  {
   "cell_type": "code",
   "execution_count": 15,
   "id": "a85d82a9-f23d-471f-a7ee-2cc2d362cda7",
   "metadata": {},
   "outputs": [],
   "source": [
    "from typing import Any, List, Tuple, Union\n",
    "\n",
    "\n",
    "def namer(name: str, ind_val: Union[Tuple, List[Any], str, int]) -> str:\n",
    "    \"\"\"Function to name a variable or constraint based on the index\n",
    "     values and the given base name.\n",
    "\n",
    "    Args:\n",
    "        name (str): Base name for variable or constraint\n",
    "        ind_val (Union[Tuple, List[Any], str, int]): Index for the variable or\n",
    "         constraint that makes it unique amongst the set for this base name.\n",
    "\n",
    "    Returns:\n",
    "        str: Unique name for this variable or constraint.\n",
    "    \"\"\"\n",
    "    if isinstance(ind_val, str) or isinstance(ind_val, int):\n",
    "        ind_vals = str(ind_val)\n",
    "    else:\n",
    "        ind_vals = \",\".join([str(i) for i in list(ind_val)])\n",
    "    ret_val = f\"{name}[{ind_vals}]\"\n",
    "    return ret_val"
   ]
  },
  {
   "cell_type": "markdown",
   "id": "7c61e190-9bfc-490c-bf2a-9507009beff6",
   "metadata": {},
   "source": [
    "### Assign Each Task to only One Resource\n",
    "\n",
    "Each task can only be assigned to be performed one task in the model.\n",
    "\n",
    "$$\\sum_{r\\in\\mathcal R} x_{rt} = 1 \\qquad\\forall t\\in\\mathcal T$$"
   ]
  },
  {
   "cell_type": "code",
   "execution_count": 16,
   "id": "259ae556",
   "metadata": {},
   "outputs": [
    {
     "data": {
      "text/plain": [
       "Task\n",
       "1      <gurobi.Constr AllTasksMustBeScheduled[1]>\n",
       "2      <gurobi.Constr AllTasksMustBeScheduled[2]>\n",
       "3      <gurobi.Constr AllTasksMustBeScheduled[3]>\n",
       "4      <gurobi.Constr AllTasksMustBeScheduled[4]>\n",
       "5      <gurobi.Constr AllTasksMustBeScheduled[5]>\n",
       "6      <gurobi.Constr AllTasksMustBeScheduled[6]>\n",
       "7      <gurobi.Constr AllTasksMustBeScheduled[7]>\n",
       "8      <gurobi.Constr AllTasksMustBeScheduled[8]>\n",
       "9      <gurobi.Constr AllTasksMustBeScheduled[9]>\n",
       "10    <gurobi.Constr AllTasksMustBeScheduled[10]>\n",
       "11    <gurobi.Constr AllTasksMustBeScheduled[11]>\n",
       "12    <gurobi.Constr AllTasksMustBeScheduled[12]>\n",
       "13    <gurobi.Constr AllTasksMustBeScheduled[13]>\n",
       "14    <gurobi.Constr AllTasksMustBeScheduled[14]>\n",
       "15    <gurobi.Constr AllTasksMustBeScheduled[15]>\n",
       "16    <gurobi.Constr AllTasksMustBeScheduled[16]>\n",
       "17    <gurobi.Constr AllTasksMustBeScheduled[17]>\n",
       "18    <gurobi.Constr AllTasksMustBeScheduled[18]>\n",
       "19    <gurobi.Constr AllTasksMustBeScheduled[19]>\n",
       "20    <gurobi.Constr AllTasksMustBeScheduled[20]>\n",
       "Name: AllTasksMustBeScheduled, dtype: object"
      ]
     },
     "execution_count": 16,
     "metadata": {},
     "output_type": "execute_result"
    }
   ],
   "source": [
    "df = gpd.add_constrs(m, x.groupby('Task').agg(grb.quicksum), grb.GRB.EQUAL, 1, name='AllTasksMustBeScheduled')\n",
    "m.update()\n",
    "df"
   ]
  },
  {
   "cell_type": "markdown",
   "id": "5f4f84a3-973a-45b6-ba9d-1169108e989c",
   "metadata": {},
   "source": [
    "### Ensure Each Resource Stays within their Allowed Hours\n",
    "\n",
    "Each resource can only be assigned tasks whose total time must be no more than their maximum hours for a day.\n",
    "\n",
    "$$\\sum_{t\\in\\mathcal T} \\eta_t \\cdot x_{rt} \\le \\gamma_r \\qquad\\forall r\\in\\mathcal R$$"
   ]
  },
  {
   "cell_type": "code",
   "execution_count": 17,
   "id": "d5d1272d-3fc3-40c1-9469-2c69799869ec",
   "metadata": {},
   "outputs": [
    {
     "data": {
      "text/html": [
       "<div>\n",
       "<style scoped>\n",
       "    .dataframe tbody tr th:only-of-type {\n",
       "        vertical-align: middle;\n",
       "    }\n",
       "\n",
       "    .dataframe tbody tr th {\n",
       "        vertical-align: top;\n",
       "    }\n",
       "\n",
       "    .dataframe thead th {\n",
       "        text-align: right;\n",
       "    }\n",
       "</style>\n",
       "<table border=\"1\" class=\"dataframe\">\n",
       "  <thead>\n",
       "    <tr style=\"text-align: right;\">\n",
       "      <th></th>\n",
       "      <th>eta_x</th>\n",
       "      <th>HoursAvailable</th>\n",
       "      <th>ResourceCantExceedHours</th>\n",
       "    </tr>\n",
       "    <tr>\n",
       "      <th>Resource</th>\n",
       "      <th></th>\n",
       "      <th></th>\n",
       "      <th></th>\n",
       "    </tr>\n",
       "  </thead>\n",
       "  <tbody>\n",
       "    <tr>\n",
       "      <th>A</th>\n",
       "      <td>&lt;gurobi.LinExpr: 4.0 x[1,A] + 3.0 x[4,A] + 3.0...</td>\n",
       "      <td>9</td>\n",
       "      <td>&lt;gurobi.Constr ResourceCantExceedHours[A]&gt;</td>\n",
       "    </tr>\n",
       "    <tr>\n",
       "      <th>B</th>\n",
       "      <td>&lt;gurobi.LinExpr: 4.0 x[1,B] + 3.0 x[4,B] + 3.0...</td>\n",
       "      <td>15</td>\n",
       "      <td>&lt;gurobi.Constr ResourceCantExceedHours[B]&gt;</td>\n",
       "    </tr>\n",
       "    <tr>\n",
       "      <th>C</th>\n",
       "      <td>&lt;gurobi.LinExpr: 4.0 x[1,C] + 3.0 x[4,C] + 3.0...</td>\n",
       "      <td>13</td>\n",
       "      <td>&lt;gurobi.Constr ResourceCantExceedHours[C]&gt;</td>\n",
       "    </tr>\n",
       "    <tr>\n",
       "      <th>D</th>\n",
       "      <td>&lt;gurobi.LinExpr: 4.0 x[1,D] + 3.0 x[2,D] + 3.0...</td>\n",
       "      <td>14</td>\n",
       "      <td>&lt;gurobi.Constr ResourceCantExceedHours[D]&gt;</td>\n",
       "    </tr>\n",
       "    <tr>\n",
       "      <th>E</th>\n",
       "      <td>&lt;gurobi.LinExpr: 4.0 x[1,E] + 3.0 x[2,E] + x[3...</td>\n",
       "      <td>13</td>\n",
       "      <td>&lt;gurobi.Constr ResourceCantExceedHours[E]&gt;</td>\n",
       "    </tr>\n",
       "    <tr>\n",
       "      <th>F</th>\n",
       "      <td>&lt;gurobi.LinExpr: 3.0 x[2,F] + 3.0 x[6,F] + 5.0...</td>\n",
       "      <td>7</td>\n",
       "      <td>&lt;gurobi.Constr ResourceCantExceedHours[F]&gt;</td>\n",
       "    </tr>\n",
       "  </tbody>\n",
       "</table>\n",
       "</div>"
      ],
      "text/plain": [
       "                                                      eta_x  HoursAvailable  \\\n",
       "Resource                                                                      \n",
       "A         <gurobi.LinExpr: 4.0 x[1,A] + 3.0 x[4,A] + 3.0...               9   \n",
       "B         <gurobi.LinExpr: 4.0 x[1,B] + 3.0 x[4,B] + 3.0...              15   \n",
       "C         <gurobi.LinExpr: 4.0 x[1,C] + 3.0 x[4,C] + 3.0...              13   \n",
       "D         <gurobi.LinExpr: 4.0 x[1,D] + 3.0 x[2,D] + 3.0...              14   \n",
       "E         <gurobi.LinExpr: 4.0 x[1,E] + 3.0 x[2,E] + x[3...              13   \n",
       "F         <gurobi.LinExpr: 3.0 x[2,F] + 3.0 x[6,F] + 5.0...               7   \n",
       "\n",
       "                             ResourceCantExceedHours  \n",
       "Resource                                              \n",
       "A         <gurobi.Constr ResourceCantExceedHours[A]>  \n",
       "B         <gurobi.Constr ResourceCantExceedHours[B]>  \n",
       "C         <gurobi.Constr ResourceCantExceedHours[C]>  \n",
       "D         <gurobi.Constr ResourceCantExceedHours[D]>  \n",
       "E         <gurobi.Constr ResourceCantExceedHours[E]>  \n",
       "F         <gurobi.Constr ResourceCantExceedHours[F]>  "
      ]
     },
     "execution_count": 17,
     "metadata": {},
     "output_type": "execute_result"
    }
   ],
   "source": [
    "df_res_ub = pd.concat(\n",
    "    [\n",
    "        pd.merge(x, tasks[\"Time\"], how=\"left\", left_on=\"Task\", right_index=True)\n",
    "        .assign(eta_x=lambda df: df[\"Time\"] * df[\"x\"])\n",
    "        .groupby([\"Resource\"])[\"eta_x\"]\n",
    "        .agg(grb.quicksum),\n",
    "        resources[\"HoursAvailable\"],\n",
    "    ],\n",
    "    axis=1,\n",
    ").gppd.add_constrs(m,\"eta_x\", grb.GRB.LESS_EQUAL, 'HoursAvailable', name='ResourceCantExceedHours')\n",
    "m.update()\n",
    "df_res_ub"
   ]
  },
  {
   "cell_type": "markdown",
   "id": "9552ab22-d147-41e2-aede-d25c75a51484",
   "metadata": {},
   "source": [
    "### Count Tasks Assigned to Resource Group\n",
    "\n",
    "Determine the number of tasks assigned to resources in each resource group\n",
    "\n",
    "$$\\sum_{r\\in\\mathcal S_g}\\sum_{t\\in\\mathcal Q_r} x_{rt} = y_g \\qquad\\forall g \\in\\mathcal G$$"
   ]
  },
  {
   "cell_type": "code",
   "execution_count": 18,
   "id": "23ceb5ae",
   "metadata": {},
   "outputs": [
    {
     "data": {
      "text/html": [
       "<div>\n",
       "<style scoped>\n",
       "    .dataframe tbody tr th:only-of-type {\n",
       "        vertical-align: middle;\n",
       "    }\n",
       "\n",
       "    .dataframe tbody tr th {\n",
       "        vertical-align: top;\n",
       "    }\n",
       "\n",
       "    .dataframe thead th {\n",
       "        text-align: right;\n",
       "    }\n",
       "</style>\n",
       "<table border=\"1\" class=\"dataframe\">\n",
       "  <thead>\n",
       "    <tr style=\"text-align: right;\">\n",
       "      <th></th>\n",
       "      <th>sum_x</th>\n",
       "      <th>y</th>\n",
       "      <th>CountTasksForGroup</th>\n",
       "    </tr>\n",
       "    <tr>\n",
       "      <th>ResourceGroup</th>\n",
       "      <th></th>\n",
       "      <th></th>\n",
       "      <th></th>\n",
       "    </tr>\n",
       "  </thead>\n",
       "  <tbody>\n",
       "    <tr>\n",
       "      <th>Cougar</th>\n",
       "      <td>&lt;gurobi.LinExpr: x[1,A] + x[4,A] + x[6,A] + x[...</td>\n",
       "      <td>&lt;gurobi.Var y[Cougar]&gt;</td>\n",
       "      <td>&lt;gurobi.Constr CountTasksForGroup[Cougar]&gt;</td>\n",
       "    </tr>\n",
       "    <tr>\n",
       "      <th>Lion</th>\n",
       "      <td>&lt;gurobi.LinExpr: x[1,E] + x[1,C] + x[2,F] + x[...</td>\n",
       "      <td>&lt;gurobi.Var y[Lion]&gt;</td>\n",
       "      <td>&lt;gurobi.Constr CountTasksForGroup[Lion]&gt;</td>\n",
       "    </tr>\n",
       "    <tr>\n",
       "      <th>Tiger</th>\n",
       "      <td>&lt;gurobi.LinExpr: x[1,D] + x[1,B] + x[2,D] + x[...</td>\n",
       "      <td>&lt;gurobi.Var y[Tiger]&gt;</td>\n",
       "      <td>&lt;gurobi.Constr CountTasksForGroup[Tiger]&gt;</td>\n",
       "    </tr>\n",
       "  </tbody>\n",
       "</table>\n",
       "</div>"
      ],
      "text/plain": [
       "                                                           sum_x  \\\n",
       "ResourceGroup                                                      \n",
       "Cougar         <gurobi.LinExpr: x[1,A] + x[4,A] + x[6,A] + x[...   \n",
       "Lion           <gurobi.LinExpr: x[1,E] + x[1,C] + x[2,F] + x[...   \n",
       "Tiger          <gurobi.LinExpr: x[1,D] + x[1,B] + x[2,D] + x[...   \n",
       "\n",
       "                                    y  \\\n",
       "ResourceGroup                           \n",
       "Cougar         <gurobi.Var y[Cougar]>   \n",
       "Lion             <gurobi.Var y[Lion]>   \n",
       "Tiger           <gurobi.Var y[Tiger]>   \n",
       "\n",
       "                                       CountTasksForGroup  \n",
       "ResourceGroup                                              \n",
       "Cougar         <gurobi.Constr CountTasksForGroup[Cougar]>  \n",
       "Lion             <gurobi.Constr CountTasksForGroup[Lion]>  \n",
       "Tiger           <gurobi.Constr CountTasksForGroup[Tiger]>  "
      ]
     },
     "execution_count": 18,
     "metadata": {},
     "output_type": "execute_result"
    }
   ],
   "source": [
    "df_res_group_set_tasks = pd.concat(\n",
    "\t[\n",
    "\t\tpd.merge(x, resources[\"ResourceGroup\"],\n",
    "\t\t\t\thow=\"left\",\n",
    "\t\t\t\tleft_on=\"Resource\",\n",
    "\t\t\t\tright_index=True,\n",
    "\t\t\t\t)\n",
    "\t\t\t.groupby(\"ResourceGroup\")[\"x\"]\n",
    "\t\t\t.agg(sum_x=grb.quicksum),\n",
    "\t\ty,\n",
    "\t], axis=1).gppd.add_constrs(m, \"sum_x\", grb.GRB.EQUAL, \"y\", name=\"CountTasksForGroup\")\n",
    "m.update()\n",
    "df_res_group_set_tasks\n"
   ]
  },
  {
   "cell_type": "markdown",
   "id": "fae4708d-3643-437e-b8cf-a2a64523f481",
   "metadata": {},
   "source": [
    "### Resource Groups are Task Count Limited\n",
    "\n",
    "#### Ensure Resource Group Meets Minimum Task Processing\n",
    "\n",
    "Ensure each resource group is only scheduled up to its maximum number of tasks\n",
    "\n",
    "$$y_g \\ge \\alpha_g \\qquad\\forall g\\in\\mathcal G$$\n",
    "\n",
    "#### Ensure Resource Group Meets Maximum Task Processing\n",
    "\n",
    "Ensure each resource group is only scheduled up to its maximum number of tasks\n",
    "\n",
    "$$y_g \\le \\beta_g \\qquad\\forall g\\in\\mathcal G$$"
   ]
  },
  {
   "cell_type": "code",
   "execution_count": 19,
   "id": "9ffe7e53-8efe-4e95-93e0-6c475f43d910",
   "metadata": {},
   "outputs": [
    {
     "data": {
      "text/html": [
       "<div>\n",
       "<style scoped>\n",
       "    .dataframe tbody tr th:only-of-type {\n",
       "        vertical-align: middle;\n",
       "    }\n",
       "\n",
       "    .dataframe tbody tr th {\n",
       "        vertical-align: top;\n",
       "    }\n",
       "\n",
       "    .dataframe thead th {\n",
       "        text-align: right;\n",
       "    }\n",
       "</style>\n",
       "<table border=\"1\" class=\"dataframe\">\n",
       "  <thead>\n",
       "    <tr style=\"text-align: right;\">\n",
       "      <th></th>\n",
       "      <th>y</th>\n",
       "      <th>MinTasks</th>\n",
       "      <th>MaxTasks</th>\n",
       "      <th>GroupMeetsMinTasks</th>\n",
       "      <th>GroupMeetsMaxTasks</th>\n",
       "    </tr>\n",
       "    <tr>\n",
       "      <th>ResourceGroup</th>\n",
       "      <th></th>\n",
       "      <th></th>\n",
       "      <th></th>\n",
       "      <th></th>\n",
       "      <th></th>\n",
       "    </tr>\n",
       "  </thead>\n",
       "  <tbody>\n",
       "    <tr>\n",
       "      <th>Tiger</th>\n",
       "      <td>&lt;gurobi.Var y[Tiger]&gt;</td>\n",
       "      <td>3</td>\n",
       "      <td>9</td>\n",
       "      <td>&lt;gurobi.Constr GroupMeetsMinTasks[Tiger]&gt;</td>\n",
       "      <td>&lt;gurobi.Constr GroupMeetsMaxTasks[Tiger]&gt;</td>\n",
       "    </tr>\n",
       "    <tr>\n",
       "      <th>Lion</th>\n",
       "      <td>&lt;gurobi.Var y[Lion]&gt;</td>\n",
       "      <td>3</td>\n",
       "      <td>13</td>\n",
       "      <td>&lt;gurobi.Constr GroupMeetsMinTasks[Lion]&gt;</td>\n",
       "      <td>&lt;gurobi.Constr GroupMeetsMaxTasks[Lion]&gt;</td>\n",
       "    </tr>\n",
       "    <tr>\n",
       "      <th>Cougar</th>\n",
       "      <td>&lt;gurobi.Var y[Cougar]&gt;</td>\n",
       "      <td>3</td>\n",
       "      <td>3</td>\n",
       "      <td>&lt;gurobi.Constr GroupMeetsMinTasks[Cougar]&gt;</td>\n",
       "      <td>&lt;gurobi.Constr GroupMeetsMaxTasks[Cougar]&gt;</td>\n",
       "    </tr>\n",
       "  </tbody>\n",
       "</table>\n",
       "</div>"
      ],
      "text/plain": [
       "                                    y  MinTasks  MaxTasks  \\\n",
       "ResourceGroup                                               \n",
       "Tiger           <gurobi.Var y[Tiger]>         3         9   \n",
       "Lion             <gurobi.Var y[Lion]>         3        13   \n",
       "Cougar         <gurobi.Var y[Cougar]>         3         3   \n",
       "\n",
       "                                       GroupMeetsMinTasks  \\\n",
       "ResourceGroup                                               \n",
       "Tiger           <gurobi.Constr GroupMeetsMinTasks[Tiger]>   \n",
       "Lion             <gurobi.Constr GroupMeetsMinTasks[Lion]>   \n",
       "Cougar         <gurobi.Constr GroupMeetsMinTasks[Cougar]>   \n",
       "\n",
       "                                       GroupMeetsMaxTasks  \n",
       "ResourceGroup                                              \n",
       "Tiger           <gurobi.Constr GroupMeetsMaxTasks[Tiger]>  \n",
       "Lion             <gurobi.Constr GroupMeetsMaxTasks[Lion]>  \n",
       "Cougar         <gurobi.Constr GroupMeetsMaxTasks[Cougar]>  "
      ]
     },
     "execution_count": 19,
     "metadata": {},
     "output_type": "execute_result"
    }
   ],
   "source": [
    "df = (\n",
    "    pd.concat([y, resource_groups], axis=1)\n",
    "    .gppd.add_constrs(\n",
    "        m, \"y\", grb.GRB.GREATER_EQUAL, \"MinTasks\", name=\"GroupMeetsMinTasks\"\n",
    "    )\n",
    "    .gppd.add_constrs(m, 'y', grb.GRB.LESS_EQUAL, \"MaxTasks\", name=\"GroupMeetsMaxTasks\")\n",
    ")\n",
    "m.update()\n",
    "df"
   ]
  },
  {
   "cell_type": "markdown",
   "id": "3252e839-6905-4c78-bcb2-d5c68ed7774d",
   "metadata": {},
   "source": [
    "### Objective\n",
    "\n",
    "The objective function for the model is to minimize the cost of assigning the resources to tasks.\n",
    "\n",
    "$$\\text{Minimize}\\,\\sum_{r\\in\\mathcal R}\\sum_{t\\in\\mathcal T} \\theta_{rt}\\cdot x_{rt}$$"
   ]
  },
  {
   "cell_type": "code",
   "execution_count": 20,
   "id": "b8e09e7d-c676-414f-965e-24a02b6c7acb",
   "metadata": {},
   "outputs": [
    {
     "data": {
      "text/plain": [
       "<gurobi.LinExpr: 84.0 x[1,A] + 96.0 x[1,E] + 112.0 x[1,D] + 116.0 x[1,C] + 88.0 x[1,B] + 54.0 x[2,F] + 72.0 x[2,E] + 84.0 x[2,D] + 24.0 x[3,E] + 87.0 x[4,C] + 66.0 x[4,B] + 84.0 x[4,D] + 63.0 x[4,A] + 66.0 x[5,B] + 54.0 x[6,F] + 63.0 x[6,A] + 90.0 x[7,F] + 140.0 x[7,D] + 22.0 x[8,B] + 24.0 x[8,E] + 21.0 x[8,A] + 18.0 x[8,F] + 28.0 x[8,D] + 36.0 x[9,F] + 44.0 x[9,B] + 48.0 x[9,E] + 63.0 x[10,A] + 84.0 x[10,D] + 87.0 x[10,C] + 120.0 x[11,E] + 90.0 x[11,F] + 140.0 x[11,D] + 56.0 x[12,D] + 44.0 x[12,B] + 48.0 x[12,E] + 42.0 x[12,A] + 58.0 x[12,C] + 90.0 x[13,F] + 140.0 x[13,D] + 145.0 x[13,C] + 36.0 x[14,F] + 56.0 x[14,D] + 48.0 x[14,E] + 42.0 x[14,A] + 44.0 x[14,B] + 56.0 x[15,D] + 58.0 x[15,C] + 36.0 x[15,F] + 44.0 x[15,B] + 72.0 x[16,E] + 87.0 x[16,C] + 63.0 x[16,A] + 84.0 x[16,D] + 54.0 x[16,F] + 84.0 x[17,A] + 112.0 x[17,D] + 96.0 x[17,E] + 116.0 x[17,C] + 88.0 x[17,B] + 145.0 x[18,C] + 105.0 x[18,A] + 140.0 x[18,D] + 21.0 x[19,A] + 28.0 x[19,D] + 22.0 x[19,B] + 24.0 x[19,E] + 84.0 x[20,A] + 72.0 x[20,F]>"
      ]
     },
     "execution_count": 20,
     "metadata": {},
     "output_type": "execute_result"
    }
   ],
   "source": [
    "z = grb.quicksum(theta * x)\n",
    "m.setObjective(z, grb.GRB.MINIMIZE)\n",
    "m.update()\n",
    "z"
   ]
  },
  {
   "cell_type": "code",
   "execution_count": 21,
   "id": "56e073c8",
   "metadata": {},
   "outputs": [],
   "source": [
    "m.write('grbpd.lp')"
   ]
  },
  {
   "cell_type": "code",
   "execution_count": 22,
   "id": "862158f0-973d-4487-a702-92a7841c8dbc",
   "metadata": {},
   "outputs": [
    {
     "name": "stdout",
     "output_type": "stream",
     "text": [
      "Gurobi Optimizer version 9.5.1 build v9.5.1rc2 (mac64[arm])\n",
      "Thread count: 10 physical cores, 10 logical processors, using up to 10 threads\n",
      "Optimize a model with 35 rows, 71 columns and 213 nonzeros\n",
      "Model fingerprint: 0x4f99366c\n",
      "Variable types: 0 continuous, 71 integer (68 binary)\n",
      "Coefficient statistics:\n",
      "  Matrix range     [1e+00, 5e+00]\n",
      "  Objective range  [2e+01, 1e+02]\n",
      "  Bounds range     [1e+00, 1e+00]\n",
      "  RHS range        [1e+00, 2e+01]\n",
      "Found heuristic solution: objective 1507.0000000\n",
      "Presolve removed 11 rows and 6 columns\n",
      "Presolve time: 0.00s\n",
      "Presolved: 24 rows, 65 columns, 192 nonzeros\n",
      "Variable types: 0 continuous, 65 integer (63 binary)\n",
      "Found heuristic solution: objective 1471.0000000\n",
      "\n",
      "Root relaxation: objective 1.436000e+03, 45 iterations, 0.00 seconds (0.00 work units)\n",
      "\n",
      "    Nodes    |    Current Node    |     Objective Bounds      |     Work\n",
      " Expl Unexpl |  Obj  Depth IntInf | Incumbent    BestBd   Gap | It/Node Time\n",
      "\n",
      "     0     0 1436.00000    0    8 1471.00000 1436.00000  2.38%     -    0s\n",
      "H    0     0                    1451.0000000 1436.00000  1.03%     -    0s\n",
      "H    0     0                    1437.0000000 1436.00000  0.07%     -    0s\n",
      "     0     0 1436.00000    0    8 1437.00000 1436.00000  0.07%     -    0s\n",
      "H    0     0                    1436.0000000 1436.00000  0.00%     -    0s\n",
      "     0     0 1436.00000    0    8 1436.00000 1436.00000  0.00%     -    0s\n",
      "\n",
      "Cutting planes:\n",
      "  Gomory: 2\n",
      "  Cover: 3\n",
      "  Clique: 1\n",
      "  MIR: 1\n",
      "  Zero half: 1\n",
      "\n",
      "Explored 1 nodes (86 simplex iterations) in 0.01 seconds (0.00 work units)\n",
      "Thread count was 10 (of 10 available processors)\n",
      "\n",
      "Solution count 5: 1436 1437 1451 ... 1507\n",
      "\n",
      "Optimal solution found (tolerance 1.00e-04)\n",
      "Best objective 1.436000000000e+03, best bound 1.436000000000e+03, gap 0.0000%\n"
     ]
    }
   ],
   "source": [
    "m.optimize()"
   ]
  },
  {
   "cell_type": "code",
   "execution_count": 23,
   "id": "fb419743-c9ba-4683-adcb-a501b0127e92",
   "metadata": {},
   "outputs": [],
   "source": [
    "m.write('model.lp')"
   ]
  },
  {
   "cell_type": "code",
   "execution_count": 24,
   "id": "1952743e-ace8-43b3-aec4-b2e71705a90c",
   "metadata": {},
   "outputs": [
    {
     "data": {
      "text/html": [
       "<div>\n",
       "<style scoped>\n",
       "    .dataframe tbody tr th:only-of-type {\n",
       "        vertical-align: middle;\n",
       "    }\n",
       "\n",
       "    .dataframe tbody tr th {\n",
       "        vertical-align: top;\n",
       "    }\n",
       "\n",
       "    .dataframe thead th {\n",
       "        text-align: right;\n",
       "    }\n",
       "</style>\n",
       "<table border=\"1\" class=\"dataframe\">\n",
       "  <thead>\n",
       "    <tr style=\"text-align: right;\">\n",
       "      <th></th>\n",
       "      <th></th>\n",
       "      <th>IsAssigned</th>\n",
       "      <th>Time</th>\n",
       "    </tr>\n",
       "    <tr>\n",
       "      <th>Task</th>\n",
       "      <th>Resource</th>\n",
       "      <th></th>\n",
       "      <th></th>\n",
       "    </tr>\n",
       "  </thead>\n",
       "  <tbody>\n",
       "    <tr>\n",
       "      <th>1</th>\n",
       "      <th>B</th>\n",
       "      <td>1</td>\n",
       "      <td>4</td>\n",
       "    </tr>\n",
       "    <tr>\n",
       "      <th>2</th>\n",
       "      <th>E</th>\n",
       "      <td>1</td>\n",
       "      <td>3</td>\n",
       "    </tr>\n",
       "    <tr>\n",
       "      <th>3</th>\n",
       "      <th>E</th>\n",
       "      <td>1</td>\n",
       "      <td>1</td>\n",
       "    </tr>\n",
       "    <tr>\n",
       "      <th>4</th>\n",
       "      <th>A</th>\n",
       "      <td>1</td>\n",
       "      <td>3</td>\n",
       "    </tr>\n",
       "    <tr>\n",
       "      <th>5</th>\n",
       "      <th>B</th>\n",
       "      <td>1</td>\n",
       "      <td>3</td>\n",
       "    </tr>\n",
       "    <tr>\n",
       "      <th>6</th>\n",
       "      <th>F</th>\n",
       "      <td>1</td>\n",
       "      <td>3</td>\n",
       "    </tr>\n",
       "    <tr>\n",
       "      <th>7</th>\n",
       "      <th>D</th>\n",
       "      <td>1</td>\n",
       "      <td>5</td>\n",
       "    </tr>\n",
       "    <tr>\n",
       "      <th>8</th>\n",
       "      <th>A</th>\n",
       "      <td>1</td>\n",
       "      <td>1</td>\n",
       "    </tr>\n",
       "    <tr>\n",
       "      <th>9</th>\n",
       "      <th>B</th>\n",
       "      <td>1</td>\n",
       "      <td>2</td>\n",
       "    </tr>\n",
       "    <tr>\n",
       "      <th>10</th>\n",
       "      <th>C</th>\n",
       "      <td>1</td>\n",
       "      <td>3</td>\n",
       "    </tr>\n",
       "    <tr>\n",
       "      <th>11</th>\n",
       "      <th>E</th>\n",
       "      <td>1</td>\n",
       "      <td>5</td>\n",
       "    </tr>\n",
       "    <tr>\n",
       "      <th>12</th>\n",
       "      <th>B</th>\n",
       "      <td>1</td>\n",
       "      <td>2</td>\n",
       "    </tr>\n",
       "    <tr>\n",
       "      <th>13</th>\n",
       "      <th>D</th>\n",
       "      <td>1</td>\n",
       "      <td>5</td>\n",
       "    </tr>\n",
       "    <tr>\n",
       "      <th>14</th>\n",
       "      <th>B</th>\n",
       "      <td>1</td>\n",
       "      <td>2</td>\n",
       "    </tr>\n",
       "    <tr>\n",
       "      <th>15</th>\n",
       "      <th>B</th>\n",
       "      <td>1</td>\n",
       "      <td>2</td>\n",
       "    </tr>\n",
       "    <tr>\n",
       "      <th>16</th>\n",
       "      <th>E</th>\n",
       "      <td>1</td>\n",
       "      <td>3</td>\n",
       "    </tr>\n",
       "    <tr>\n",
       "      <th>17</th>\n",
       "      <th>D</th>\n",
       "      <td>1</td>\n",
       "      <td>4</td>\n",
       "    </tr>\n",
       "    <tr>\n",
       "      <th>18</th>\n",
       "      <th>A</th>\n",
       "      <td>1</td>\n",
       "      <td>5</td>\n",
       "    </tr>\n",
       "    <tr>\n",
       "      <th>19</th>\n",
       "      <th>E</th>\n",
       "      <td>1</td>\n",
       "      <td>1</td>\n",
       "    </tr>\n",
       "    <tr>\n",
       "      <th>20</th>\n",
       "      <th>F</th>\n",
       "      <td>1</td>\n",
       "      <td>4</td>\n",
       "    </tr>\n",
       "  </tbody>\n",
       "</table>\n",
       "</div>"
      ],
      "text/plain": [
       "               IsAssigned  Time\n",
       "Task Resource                  \n",
       "1    B                  1     4\n",
       "2    E                  1     3\n",
       "3    E                  1     1\n",
       "4    A                  1     3\n",
       "5    B                  1     3\n",
       "6    F                  1     3\n",
       "7    D                  1     5\n",
       "8    A                  1     1\n",
       "9    B                  1     2\n",
       "10   C                  1     3\n",
       "11   E                  1     5\n",
       "12   B                  1     2\n",
       "13   D                  1     5\n",
       "14   B                  1     2\n",
       "15   B                  1     2\n",
       "16   E                  1     3\n",
       "17   D                  1     4\n",
       "18   A                  1     5\n",
       "19   E                  1     1\n",
       "20   F                  1     4"
      ]
     },
     "execution_count": 24,
     "metadata": {},
     "output_type": "execute_result"
    }
   ],
   "source": [
    "assignment_data = pd.DataFrame(index=x.index).assign(IsAssigned=[v.X for v in x])\n",
    "assignment_data = (\n",
    "    assignment_data.query(\"IsAssigned > 0.1\").astype(int)\n",
    ")\n",
    "assignment_data = assignment_data.merge(\n",
    "    tasks[[\"Time\"]], how=\"left\", left_on=\"Task\", right_index=True\n",
    ")\n",
    "assignment_data"
   ]
  },
  {
   "cell_type": "code",
   "execution_count": 25,
   "id": "8f7c1927-5056-4c34-97a4-a20af722aa75",
   "metadata": {},
   "outputs": [],
   "source": [
    "import plotly.graph_objects as go"
   ]
  },
  {
   "cell_type": "code",
   "execution_count": 26,
   "id": "69e2e6f5-4c54-44e2-8453-702d503bdc11",
   "metadata": {},
   "outputs": [
    {
     "data": {
      "application/vnd.plotly.v1+json": {
       "config": {
        "plotlyServerURL": "https://plot.ly"
       },
       "data": [
        {
         "name": "20",
         "type": "bar",
         "x": [
          "A",
          "B",
          "C",
          "D",
          "E",
          "F"
         ],
         "y": [
          0,
          0,
          0,
          0,
          0,
          4
         ]
        },
        {
         "name": "19",
         "type": "bar",
         "x": [
          "A",
          "B",
          "C",
          "D",
          "E",
          "F"
         ],
         "y": [
          0,
          0,
          0,
          0,
          1,
          0
         ]
        },
        {
         "name": "18",
         "type": "bar",
         "x": [
          "A",
          "B",
          "C",
          "D",
          "E",
          "F"
         ],
         "y": [
          5,
          0,
          0,
          0,
          0,
          0
         ]
        },
        {
         "name": "17",
         "type": "bar",
         "x": [
          "A",
          "B",
          "C",
          "D",
          "E",
          "F"
         ],
         "y": [
          0,
          0,
          0,
          4,
          0,
          0
         ]
        },
        {
         "name": "16",
         "type": "bar",
         "x": [
          "A",
          "B",
          "C",
          "D",
          "E",
          "F"
         ],
         "y": [
          0,
          0,
          0,
          0,
          3,
          0
         ]
        },
        {
         "name": "15",
         "type": "bar",
         "x": [
          "A",
          "B",
          "C",
          "D",
          "E",
          "F"
         ],
         "y": [
          0,
          2,
          0,
          0,
          0,
          0
         ]
        },
        {
         "name": "14",
         "type": "bar",
         "x": [
          "A",
          "B",
          "C",
          "D",
          "E",
          "F"
         ],
         "y": [
          0,
          2,
          0,
          0,
          0,
          0
         ]
        },
        {
         "name": "13",
         "type": "bar",
         "x": [
          "A",
          "B",
          "C",
          "D",
          "E",
          "F"
         ],
         "y": [
          0,
          0,
          0,
          5,
          0,
          0
         ]
        },
        {
         "name": "12",
         "type": "bar",
         "x": [
          "A",
          "B",
          "C",
          "D",
          "E",
          "F"
         ],
         "y": [
          0,
          2,
          0,
          0,
          0,
          0
         ]
        },
        {
         "name": "11",
         "type": "bar",
         "x": [
          "A",
          "B",
          "C",
          "D",
          "E",
          "F"
         ],
         "y": [
          0,
          0,
          0,
          0,
          5,
          0
         ]
        },
        {
         "name": "10",
         "type": "bar",
         "x": [
          "A",
          "B",
          "C",
          "D",
          "E",
          "F"
         ],
         "y": [
          0,
          0,
          3,
          0,
          0,
          0
         ]
        },
        {
         "name": "9",
         "type": "bar",
         "x": [
          "A",
          "B",
          "C",
          "D",
          "E",
          "F"
         ],
         "y": [
          0,
          2,
          0,
          0,
          0,
          0
         ]
        },
        {
         "name": "8",
         "type": "bar",
         "x": [
          "A",
          "B",
          "C",
          "D",
          "E",
          "F"
         ],
         "y": [
          1,
          0,
          0,
          0,
          0,
          0
         ]
        },
        {
         "name": "7",
         "type": "bar",
         "x": [
          "A",
          "B",
          "C",
          "D",
          "E",
          "F"
         ],
         "y": [
          0,
          0,
          0,
          5,
          0,
          0
         ]
        },
        {
         "name": "6",
         "type": "bar",
         "x": [
          "A",
          "B",
          "C",
          "D",
          "E",
          "F"
         ],
         "y": [
          0,
          0,
          0,
          0,
          0,
          3
         ]
        },
        {
         "name": "5",
         "type": "bar",
         "x": [
          "A",
          "B",
          "C",
          "D",
          "E",
          "F"
         ],
         "y": [
          0,
          3,
          0,
          0,
          0,
          0
         ]
        },
        {
         "name": "4",
         "type": "bar",
         "x": [
          "A",
          "B",
          "C",
          "D",
          "E",
          "F"
         ],
         "y": [
          3,
          0,
          0,
          0,
          0,
          0
         ]
        },
        {
         "name": "3",
         "type": "bar",
         "x": [
          "A",
          "B",
          "C",
          "D",
          "E",
          "F"
         ],
         "y": [
          0,
          0,
          0,
          0,
          1,
          0
         ]
        },
        {
         "name": "2",
         "type": "bar",
         "x": [
          "A",
          "B",
          "C",
          "D",
          "E",
          "F"
         ],
         "y": [
          0,
          0,
          0,
          0,
          3,
          0
         ]
        },
        {
         "name": "1",
         "type": "bar",
         "x": [
          "A",
          "B",
          "C",
          "D",
          "E",
          "F"
         ],
         "y": [
          0,
          4,
          0,
          0,
          0,
          0
         ]
        },
        {
         "name": "Max Hours",
         "showlegend": false,
         "type": "scatter",
         "x": [
          "A",
          "B",
          "C",
          "D",
          "E",
          "F"
         ],
         "y": [
          9,
          15,
          13,
          14,
          13,
          7
         ]
        }
       ],
       "layout": {
        "annotations": [
         {
          "text": "Max Hours for Resource",
          "x": "A",
          "y": 9
         }
        ],
        "autosize": false,
        "barmode": "stack",
        "legend": {
         "title": {
          "text": "Task"
         }
        },
        "template": {
         "data": {
          "bar": [
           {
            "error_x": {
             "color": "#2a3f5f"
            },
            "error_y": {
             "color": "#2a3f5f"
            },
            "marker": {
             "line": {
              "color": "#E5ECF6",
              "width": 0.5
             },
             "pattern": {
              "fillmode": "overlay",
              "size": 10,
              "solidity": 0.2
             }
            },
            "type": "bar"
           }
          ],
          "barpolar": [
           {
            "marker": {
             "line": {
              "color": "#E5ECF6",
              "width": 0.5
             },
             "pattern": {
              "fillmode": "overlay",
              "size": 10,
              "solidity": 0.2
             }
            },
            "type": "barpolar"
           }
          ],
          "carpet": [
           {
            "aaxis": {
             "endlinecolor": "#2a3f5f",
             "gridcolor": "white",
             "linecolor": "white",
             "minorgridcolor": "white",
             "startlinecolor": "#2a3f5f"
            },
            "baxis": {
             "endlinecolor": "#2a3f5f",
             "gridcolor": "white",
             "linecolor": "white",
             "minorgridcolor": "white",
             "startlinecolor": "#2a3f5f"
            },
            "type": "carpet"
           }
          ],
          "choropleth": [
           {
            "colorbar": {
             "outlinewidth": 0,
             "ticks": ""
            },
            "type": "choropleth"
           }
          ],
          "contour": [
           {
            "colorbar": {
             "outlinewidth": 0,
             "ticks": ""
            },
            "colorscale": [
             [
              0,
              "#0d0887"
             ],
             [
              0.1111111111111111,
              "#46039f"
             ],
             [
              0.2222222222222222,
              "#7201a8"
             ],
             [
              0.3333333333333333,
              "#9c179e"
             ],
             [
              0.4444444444444444,
              "#bd3786"
             ],
             [
              0.5555555555555556,
              "#d8576b"
             ],
             [
              0.6666666666666666,
              "#ed7953"
             ],
             [
              0.7777777777777778,
              "#fb9f3a"
             ],
             [
              0.8888888888888888,
              "#fdca26"
             ],
             [
              1,
              "#f0f921"
             ]
            ],
            "type": "contour"
           }
          ],
          "contourcarpet": [
           {
            "colorbar": {
             "outlinewidth": 0,
             "ticks": ""
            },
            "type": "contourcarpet"
           }
          ],
          "heatmap": [
           {
            "colorbar": {
             "outlinewidth": 0,
             "ticks": ""
            },
            "colorscale": [
             [
              0,
              "#0d0887"
             ],
             [
              0.1111111111111111,
              "#46039f"
             ],
             [
              0.2222222222222222,
              "#7201a8"
             ],
             [
              0.3333333333333333,
              "#9c179e"
             ],
             [
              0.4444444444444444,
              "#bd3786"
             ],
             [
              0.5555555555555556,
              "#d8576b"
             ],
             [
              0.6666666666666666,
              "#ed7953"
             ],
             [
              0.7777777777777778,
              "#fb9f3a"
             ],
             [
              0.8888888888888888,
              "#fdca26"
             ],
             [
              1,
              "#f0f921"
             ]
            ],
            "type": "heatmap"
           }
          ],
          "heatmapgl": [
           {
            "colorbar": {
             "outlinewidth": 0,
             "ticks": ""
            },
            "colorscale": [
             [
              0,
              "#0d0887"
             ],
             [
              0.1111111111111111,
              "#46039f"
             ],
             [
              0.2222222222222222,
              "#7201a8"
             ],
             [
              0.3333333333333333,
              "#9c179e"
             ],
             [
              0.4444444444444444,
              "#bd3786"
             ],
             [
              0.5555555555555556,
              "#d8576b"
             ],
             [
              0.6666666666666666,
              "#ed7953"
             ],
             [
              0.7777777777777778,
              "#fb9f3a"
             ],
             [
              0.8888888888888888,
              "#fdca26"
             ],
             [
              1,
              "#f0f921"
             ]
            ],
            "type": "heatmapgl"
           }
          ],
          "histogram": [
           {
            "marker": {
             "pattern": {
              "fillmode": "overlay",
              "size": 10,
              "solidity": 0.2
             }
            },
            "type": "histogram"
           }
          ],
          "histogram2d": [
           {
            "colorbar": {
             "outlinewidth": 0,
             "ticks": ""
            },
            "colorscale": [
             [
              0,
              "#0d0887"
             ],
             [
              0.1111111111111111,
              "#46039f"
             ],
             [
              0.2222222222222222,
              "#7201a8"
             ],
             [
              0.3333333333333333,
              "#9c179e"
             ],
             [
              0.4444444444444444,
              "#bd3786"
             ],
             [
              0.5555555555555556,
              "#d8576b"
             ],
             [
              0.6666666666666666,
              "#ed7953"
             ],
             [
              0.7777777777777778,
              "#fb9f3a"
             ],
             [
              0.8888888888888888,
              "#fdca26"
             ],
             [
              1,
              "#f0f921"
             ]
            ],
            "type": "histogram2d"
           }
          ],
          "histogram2dcontour": [
           {
            "colorbar": {
             "outlinewidth": 0,
             "ticks": ""
            },
            "colorscale": [
             [
              0,
              "#0d0887"
             ],
             [
              0.1111111111111111,
              "#46039f"
             ],
             [
              0.2222222222222222,
              "#7201a8"
             ],
             [
              0.3333333333333333,
              "#9c179e"
             ],
             [
              0.4444444444444444,
              "#bd3786"
             ],
             [
              0.5555555555555556,
              "#d8576b"
             ],
             [
              0.6666666666666666,
              "#ed7953"
             ],
             [
              0.7777777777777778,
              "#fb9f3a"
             ],
             [
              0.8888888888888888,
              "#fdca26"
             ],
             [
              1,
              "#f0f921"
             ]
            ],
            "type": "histogram2dcontour"
           }
          ],
          "mesh3d": [
           {
            "colorbar": {
             "outlinewidth": 0,
             "ticks": ""
            },
            "type": "mesh3d"
           }
          ],
          "parcoords": [
           {
            "line": {
             "colorbar": {
              "outlinewidth": 0,
              "ticks": ""
             }
            },
            "type": "parcoords"
           }
          ],
          "pie": [
           {
            "automargin": true,
            "type": "pie"
           }
          ],
          "scatter": [
           {
            "marker": {
             "colorbar": {
              "outlinewidth": 0,
              "ticks": ""
             }
            },
            "type": "scatter"
           }
          ],
          "scatter3d": [
           {
            "line": {
             "colorbar": {
              "outlinewidth": 0,
              "ticks": ""
             }
            },
            "marker": {
             "colorbar": {
              "outlinewidth": 0,
              "ticks": ""
             }
            },
            "type": "scatter3d"
           }
          ],
          "scattercarpet": [
           {
            "marker": {
             "colorbar": {
              "outlinewidth": 0,
              "ticks": ""
             }
            },
            "type": "scattercarpet"
           }
          ],
          "scattergeo": [
           {
            "marker": {
             "colorbar": {
              "outlinewidth": 0,
              "ticks": ""
             }
            },
            "type": "scattergeo"
           }
          ],
          "scattergl": [
           {
            "marker": {
             "colorbar": {
              "outlinewidth": 0,
              "ticks": ""
             }
            },
            "type": "scattergl"
           }
          ],
          "scattermapbox": [
           {
            "marker": {
             "colorbar": {
              "outlinewidth": 0,
              "ticks": ""
             }
            },
            "type": "scattermapbox"
           }
          ],
          "scatterpolar": [
           {
            "marker": {
             "colorbar": {
              "outlinewidth": 0,
              "ticks": ""
             }
            },
            "type": "scatterpolar"
           }
          ],
          "scatterpolargl": [
           {
            "marker": {
             "colorbar": {
              "outlinewidth": 0,
              "ticks": ""
             }
            },
            "type": "scatterpolargl"
           }
          ],
          "scatterternary": [
           {
            "marker": {
             "colorbar": {
              "outlinewidth": 0,
              "ticks": ""
             }
            },
            "type": "scatterternary"
           }
          ],
          "surface": [
           {
            "colorbar": {
             "outlinewidth": 0,
             "ticks": ""
            },
            "colorscale": [
             [
              0,
              "#0d0887"
             ],
             [
              0.1111111111111111,
              "#46039f"
             ],
             [
              0.2222222222222222,
              "#7201a8"
             ],
             [
              0.3333333333333333,
              "#9c179e"
             ],
             [
              0.4444444444444444,
              "#bd3786"
             ],
             [
              0.5555555555555556,
              "#d8576b"
             ],
             [
              0.6666666666666666,
              "#ed7953"
             ],
             [
              0.7777777777777778,
              "#fb9f3a"
             ],
             [
              0.8888888888888888,
              "#fdca26"
             ],
             [
              1,
              "#f0f921"
             ]
            ],
            "type": "surface"
           }
          ],
          "table": [
           {
            "cells": {
             "fill": {
              "color": "#EBF0F8"
             },
             "line": {
              "color": "white"
             }
            },
            "header": {
             "fill": {
              "color": "#C8D4E3"
             },
             "line": {
              "color": "white"
             }
            },
            "type": "table"
           }
          ]
         },
         "layout": {
          "annotationdefaults": {
           "arrowcolor": "#2a3f5f",
           "arrowhead": 0,
           "arrowwidth": 1
          },
          "autotypenumbers": "strict",
          "coloraxis": {
           "colorbar": {
            "outlinewidth": 0,
            "ticks": ""
           }
          },
          "colorscale": {
           "diverging": [
            [
             0,
             "#8e0152"
            ],
            [
             0.1,
             "#c51b7d"
            ],
            [
             0.2,
             "#de77ae"
            ],
            [
             0.3,
             "#f1b6da"
            ],
            [
             0.4,
             "#fde0ef"
            ],
            [
             0.5,
             "#f7f7f7"
            ],
            [
             0.6,
             "#e6f5d0"
            ],
            [
             0.7,
             "#b8e186"
            ],
            [
             0.8,
             "#7fbc41"
            ],
            [
             0.9,
             "#4d9221"
            ],
            [
             1,
             "#276419"
            ]
           ],
           "sequential": [
            [
             0,
             "#0d0887"
            ],
            [
             0.1111111111111111,
             "#46039f"
            ],
            [
             0.2222222222222222,
             "#7201a8"
            ],
            [
             0.3333333333333333,
             "#9c179e"
            ],
            [
             0.4444444444444444,
             "#bd3786"
            ],
            [
             0.5555555555555556,
             "#d8576b"
            ],
            [
             0.6666666666666666,
             "#ed7953"
            ],
            [
             0.7777777777777778,
             "#fb9f3a"
            ],
            [
             0.8888888888888888,
             "#fdca26"
            ],
            [
             1,
             "#f0f921"
            ]
           ],
           "sequentialminus": [
            [
             0,
             "#0d0887"
            ],
            [
             0.1111111111111111,
             "#46039f"
            ],
            [
             0.2222222222222222,
             "#7201a8"
            ],
            [
             0.3333333333333333,
             "#9c179e"
            ],
            [
             0.4444444444444444,
             "#bd3786"
            ],
            [
             0.5555555555555556,
             "#d8576b"
            ],
            [
             0.6666666666666666,
             "#ed7953"
            ],
            [
             0.7777777777777778,
             "#fb9f3a"
            ],
            [
             0.8888888888888888,
             "#fdca26"
            ],
            [
             1,
             "#f0f921"
            ]
           ]
          },
          "colorway": [
           "#636efa",
           "#EF553B",
           "#00cc96",
           "#ab63fa",
           "#FFA15A",
           "#19d3f3",
           "#FF6692",
           "#B6E880",
           "#FF97FF",
           "#FECB52"
          ],
          "font": {
           "color": "#2a3f5f"
          },
          "geo": {
           "bgcolor": "white",
           "lakecolor": "white",
           "landcolor": "#E5ECF6",
           "showlakes": true,
           "showland": true,
           "subunitcolor": "white"
          },
          "hoverlabel": {
           "align": "left"
          },
          "hovermode": "closest",
          "mapbox": {
           "style": "light"
          },
          "paper_bgcolor": "white",
          "plot_bgcolor": "#E5ECF6",
          "polar": {
           "angularaxis": {
            "gridcolor": "white",
            "linecolor": "white",
            "ticks": ""
           },
           "bgcolor": "#E5ECF6",
           "radialaxis": {
            "gridcolor": "white",
            "linecolor": "white",
            "ticks": ""
           }
          },
          "scene": {
           "xaxis": {
            "backgroundcolor": "#E5ECF6",
            "gridcolor": "white",
            "gridwidth": 2,
            "linecolor": "white",
            "showbackground": true,
            "ticks": "",
            "zerolinecolor": "white"
           },
           "yaxis": {
            "backgroundcolor": "#E5ECF6",
            "gridcolor": "white",
            "gridwidth": 2,
            "linecolor": "white",
            "showbackground": true,
            "ticks": "",
            "zerolinecolor": "white"
           },
           "zaxis": {
            "backgroundcolor": "#E5ECF6",
            "gridcolor": "white",
            "gridwidth": 2,
            "linecolor": "white",
            "showbackground": true,
            "ticks": "",
            "zerolinecolor": "white"
           }
          },
          "shapedefaults": {
           "line": {
            "color": "#2a3f5f"
           }
          },
          "ternary": {
           "aaxis": {
            "gridcolor": "white",
            "linecolor": "white",
            "ticks": ""
           },
           "baxis": {
            "gridcolor": "white",
            "linecolor": "white",
            "ticks": ""
           },
           "bgcolor": "#E5ECF6",
           "caxis": {
            "gridcolor": "white",
            "linecolor": "white",
            "ticks": ""
           }
          },
          "title": {
           "x": 0.05
          },
          "xaxis": {
           "automargin": true,
           "gridcolor": "white",
           "linecolor": "white",
           "ticks": "",
           "title": {
            "standoff": 15
           },
           "zerolinecolor": "white",
           "zerolinewidth": 2
          },
          "yaxis": {
           "automargin": true,
           "gridcolor": "white",
           "linecolor": "white",
           "ticks": "",
           "title": {
            "standoff": 15
           },
           "zerolinecolor": "white",
           "zerolinewidth": 2
          }
         }
        },
        "title": {
         "text": "Task Assignments"
        },
        "width": 800,
        "xaxis": {
         "title": {
          "text": "Resources"
         }
        },
        "yaxis": {
         "title": {
          "text": "Time (Hours)"
         }
        }
       }
      }
     },
     "metadata": {},
     "output_type": "display_data"
    }
   ],
   "source": [
    "fig = go.Figure()\n",
    "res = list(resources.index)\n",
    "\n",
    "for it in assignment_data.reset_index().sort_values('Task', ascending=False).itertuples():\n",
    "    y_dict = {r:0 for r in res}\n",
    "    y_dict[it.Resource] = it.Time\n",
    "    fig.add_trace(go.Bar(x=res, y=list(y_dict.values()), name=it.Task))\n",
    "\n",
    "    \n",
    "fig.add_trace(go.Scatter(x=res, y=resources.HoursAvailable.values, name='Max Hours', showlegend=False))\n",
    "fig.update_layout(barmode='stack', title='Task Assignments', xaxis={'title':\"Resources\"}, \n",
    "                  legend={'title':\"Task\"}, yaxis={'title': \"Time (Hours)\"}, width=800, autosize=False)\n",
    "fig.add_annotation(\n",
    "            x='A',\n",
    "            y=resources.query('Resource==\"A\"').HoursAvailable.values[0],\n",
    "            text=\"Max Hours for Resource\")\n",
    "fig"
   ]
  },
  {
   "cell_type": "code",
   "execution_count": 27,
   "id": "0446a6a8-5559-4dff-a59e-9b017e3b7039",
   "metadata": {},
   "outputs": [
    {
     "data": {
      "text/html": [
       "<div>\n",
       "<style scoped>\n",
       "    .dataframe tbody tr th:only-of-type {\n",
       "        vertical-align: middle;\n",
       "    }\n",
       "\n",
       "    .dataframe tbody tr th {\n",
       "        vertical-align: top;\n",
       "    }\n",
       "\n",
       "    .dataframe thead th {\n",
       "        text-align: right;\n",
       "    }\n",
       "</style>\n",
       "<table border=\"1\" class=\"dataframe\">\n",
       "  <thead>\n",
       "    <tr style=\"text-align: right;\">\n",
       "      <th></th>\n",
       "      <th>Task</th>\n",
       "      <th>Resource</th>\n",
       "      <th>IsAssigned</th>\n",
       "      <th>Time</th>\n",
       "    </tr>\n",
       "  </thead>\n",
       "  <tbody>\n",
       "    <tr>\n",
       "      <th>19</th>\n",
       "      <td>20</td>\n",
       "      <td>F</td>\n",
       "      <td>1</td>\n",
       "      <td>4</td>\n",
       "    </tr>\n",
       "    <tr>\n",
       "      <th>18</th>\n",
       "      <td>19</td>\n",
       "      <td>E</td>\n",
       "      <td>1</td>\n",
       "      <td>1</td>\n",
       "    </tr>\n",
       "    <tr>\n",
       "      <th>17</th>\n",
       "      <td>18</td>\n",
       "      <td>A</td>\n",
       "      <td>1</td>\n",
       "      <td>5</td>\n",
       "    </tr>\n",
       "    <tr>\n",
       "      <th>16</th>\n",
       "      <td>17</td>\n",
       "      <td>D</td>\n",
       "      <td>1</td>\n",
       "      <td>4</td>\n",
       "    </tr>\n",
       "    <tr>\n",
       "      <th>15</th>\n",
       "      <td>16</td>\n",
       "      <td>E</td>\n",
       "      <td>1</td>\n",
       "      <td>3</td>\n",
       "    </tr>\n",
       "    <tr>\n",
       "      <th>14</th>\n",
       "      <td>15</td>\n",
       "      <td>B</td>\n",
       "      <td>1</td>\n",
       "      <td>2</td>\n",
       "    </tr>\n",
       "    <tr>\n",
       "      <th>13</th>\n",
       "      <td>14</td>\n",
       "      <td>B</td>\n",
       "      <td>1</td>\n",
       "      <td>2</td>\n",
       "    </tr>\n",
       "    <tr>\n",
       "      <th>12</th>\n",
       "      <td>13</td>\n",
       "      <td>D</td>\n",
       "      <td>1</td>\n",
       "      <td>5</td>\n",
       "    </tr>\n",
       "    <tr>\n",
       "      <th>11</th>\n",
       "      <td>12</td>\n",
       "      <td>B</td>\n",
       "      <td>1</td>\n",
       "      <td>2</td>\n",
       "    </tr>\n",
       "    <tr>\n",
       "      <th>10</th>\n",
       "      <td>11</td>\n",
       "      <td>E</td>\n",
       "      <td>1</td>\n",
       "      <td>5</td>\n",
       "    </tr>\n",
       "    <tr>\n",
       "      <th>9</th>\n",
       "      <td>10</td>\n",
       "      <td>C</td>\n",
       "      <td>1</td>\n",
       "      <td>3</td>\n",
       "    </tr>\n",
       "    <tr>\n",
       "      <th>8</th>\n",
       "      <td>9</td>\n",
       "      <td>B</td>\n",
       "      <td>1</td>\n",
       "      <td>2</td>\n",
       "    </tr>\n",
       "    <tr>\n",
       "      <th>7</th>\n",
       "      <td>8</td>\n",
       "      <td>A</td>\n",
       "      <td>1</td>\n",
       "      <td>1</td>\n",
       "    </tr>\n",
       "    <tr>\n",
       "      <th>6</th>\n",
       "      <td>7</td>\n",
       "      <td>D</td>\n",
       "      <td>1</td>\n",
       "      <td>5</td>\n",
       "    </tr>\n",
       "    <tr>\n",
       "      <th>5</th>\n",
       "      <td>6</td>\n",
       "      <td>F</td>\n",
       "      <td>1</td>\n",
       "      <td>3</td>\n",
       "    </tr>\n",
       "    <tr>\n",
       "      <th>4</th>\n",
       "      <td>5</td>\n",
       "      <td>B</td>\n",
       "      <td>1</td>\n",
       "      <td>3</td>\n",
       "    </tr>\n",
       "    <tr>\n",
       "      <th>3</th>\n",
       "      <td>4</td>\n",
       "      <td>A</td>\n",
       "      <td>1</td>\n",
       "      <td>3</td>\n",
       "    </tr>\n",
       "    <tr>\n",
       "      <th>2</th>\n",
       "      <td>3</td>\n",
       "      <td>E</td>\n",
       "      <td>1</td>\n",
       "      <td>1</td>\n",
       "    </tr>\n",
       "    <tr>\n",
       "      <th>1</th>\n",
       "      <td>2</td>\n",
       "      <td>E</td>\n",
       "      <td>1</td>\n",
       "      <td>3</td>\n",
       "    </tr>\n",
       "    <tr>\n",
       "      <th>0</th>\n",
       "      <td>1</td>\n",
       "      <td>B</td>\n",
       "      <td>1</td>\n",
       "      <td>4</td>\n",
       "    </tr>\n",
       "  </tbody>\n",
       "</table>\n",
       "</div>"
      ],
      "text/plain": [
       "    Task Resource  IsAssigned  Time\n",
       "19    20        F           1     4\n",
       "18    19        E           1     1\n",
       "17    18        A           1     5\n",
       "16    17        D           1     4\n",
       "15    16        E           1     3\n",
       "14    15        B           1     2\n",
       "13    14        B           1     2\n",
       "12    13        D           1     5\n",
       "11    12        B           1     2\n",
       "10    11        E           1     5\n",
       "9     10        C           1     3\n",
       "8      9        B           1     2\n",
       "7      8        A           1     1\n",
       "6      7        D           1     5\n",
       "5      6        F           1     3\n",
       "4      5        B           1     3\n",
       "3      4        A           1     3\n",
       "2      3        E           1     1\n",
       "1      2        E           1     3\n",
       "0      1        B           1     4"
      ]
     },
     "execution_count": 27,
     "metadata": {},
     "output_type": "execute_result"
    }
   ],
   "source": [
    "assignment_data.reset_index().sort_values('Task', ascending=False)"
   ]
  },
  {
   "cell_type": "code",
   "execution_count": 28,
   "id": "0fae6797-6b20-4558-96d3-9b0c0fb48946",
   "metadata": {},
   "outputs": [
    {
     "data": {
      "text/html": [
       "<div>\n",
       "<style scoped>\n",
       "    .dataframe tbody tr th:only-of-type {\n",
       "        vertical-align: middle;\n",
       "    }\n",
       "\n",
       "    .dataframe tbody tr th {\n",
       "        vertical-align: top;\n",
       "    }\n",
       "\n",
       "    .dataframe thead th {\n",
       "        text-align: right;\n",
       "    }\n",
       "</style>\n",
       "<table border=\"1\" class=\"dataframe\">\n",
       "  <thead>\n",
       "    <tr style=\"text-align: right;\">\n",
       "      <th></th>\n",
       "      <th>MinTasks</th>\n",
       "      <th>MaxTasks</th>\n",
       "      <th>NumTasks</th>\n",
       "    </tr>\n",
       "    <tr>\n",
       "      <th>ResourceGroup</th>\n",
       "      <th></th>\n",
       "      <th></th>\n",
       "      <th></th>\n",
       "    </tr>\n",
       "  </thead>\n",
       "  <tbody>\n",
       "    <tr>\n",
       "      <th>Tiger</th>\n",
       "      <td>3</td>\n",
       "      <td>9</td>\n",
       "      <td>9</td>\n",
       "    </tr>\n",
       "    <tr>\n",
       "      <th>Lion</th>\n",
       "      <td>3</td>\n",
       "      <td>13</td>\n",
       "      <td>8</td>\n",
       "    </tr>\n",
       "    <tr>\n",
       "      <th>Cougar</th>\n",
       "      <td>3</td>\n",
       "      <td>3</td>\n",
       "      <td>3</td>\n",
       "    </tr>\n",
       "  </tbody>\n",
       "</table>\n",
       "</div>"
      ],
      "text/plain": [
       "               MinTasks  MaxTasks  NumTasks\n",
       "ResourceGroup                              \n",
       "Tiger                 3         9         9\n",
       "Lion                  3        13         8\n",
       "Cougar                3         3         3"
      ]
     },
     "execution_count": 28,
     "metadata": {},
     "output_type": "execute_result"
    }
   ],
   "source": [
    "resource_group_assignment = pd.concat([resource_groups, \n",
    "pd.concat([assignment_data.groupby('Resource').size().to_frame(\"NumTasks\"), resources[['ResourceGroup']]], axis=1).groupby(\"ResourceGroup\").sum()], axis=1)\n",
    "resource_group_assignment"
   ]
  },
  {
   "cell_type": "code",
   "execution_count": 29,
   "id": "b087b6f5-5846-4723-bb90-af0b33702c4c",
   "metadata": {},
   "outputs": [
    {
     "data": {
      "application/vnd.plotly.v1+json": {
       "config": {
        "plotlyServerURL": "https://plot.ly"
       },
       "data": [
        {
         "legendgroup": "resource",
         "legendgrouptitle": {
          "text": "Resource"
         },
         "name": "F",
         "type": "bar",
         "x": [
          "Cougar",
          "Lion",
          "Tiger"
         ],
         "y": [
          0,
          2,
          0
         ]
        },
        {
         "legendgroup": "resource",
         "legendgrouptitle": {
          "text": "Resource"
         },
         "name": "E",
         "type": "bar",
         "x": [
          "Cougar",
          "Lion",
          "Tiger"
         ],
         "y": [
          0,
          5,
          0
         ]
        },
        {
         "legendgroup": "resource",
         "legendgrouptitle": {
          "text": "Resource"
         },
         "name": "D",
         "type": "bar",
         "x": [
          "Cougar",
          "Lion",
          "Tiger"
         ],
         "y": [
          0,
          0,
          3
         ]
        },
        {
         "legendgroup": "resource",
         "legendgrouptitle": {
          "text": "Resource"
         },
         "name": "C",
         "type": "bar",
         "x": [
          "Cougar",
          "Lion",
          "Tiger"
         ],
         "y": [
          0,
          1,
          0
         ]
        },
        {
         "legendgroup": "resource",
         "legendgrouptitle": {
          "text": "Resource"
         },
         "name": "B",
         "type": "bar",
         "x": [
          "Cougar",
          "Lion",
          "Tiger"
         ],
         "y": [
          0,
          0,
          6
         ]
        },
        {
         "legendgroup": "resource",
         "legendgrouptitle": {
          "text": "Resource"
         },
         "name": "A",
         "type": "bar",
         "x": [
          "Cougar",
          "Lion",
          "Tiger"
         ],
         "y": [
          3,
          0,
          0
         ]
        },
        {
         "legendgroup": "tasks",
         "legendgrouptitle": {
          "text": "Task Count Bounds"
         },
         "name": "Max",
         "type": "scatter",
         "x": [
          "Cougar",
          "Lion",
          "Tiger"
         ],
         "y": [
          3,
          13,
          9
         ]
        },
        {
         "legendgroup": "tasks",
         "name": "Min",
         "type": "scatter",
         "x": [
          "Cougar",
          "Lion",
          "Tiger"
         ],
         "y": [
          3,
          3,
          3
         ]
        }
       ],
       "layout": {
        "annotations": [
         {
          "text": "Max Tasks for Resource Group",
          "x": "Lion",
          "y": 13
         },
         {
          "text": "Min Tasks for Resource Group",
          "x": "Tiger",
          "y": 3
         }
        ],
        "autosize": false,
        "barmode": "stack",
        "height": 500,
        "template": {
         "data": {
          "bar": [
           {
            "error_x": {
             "color": "#2a3f5f"
            },
            "error_y": {
             "color": "#2a3f5f"
            },
            "marker": {
             "line": {
              "color": "#E5ECF6",
              "width": 0.5
             },
             "pattern": {
              "fillmode": "overlay",
              "size": 10,
              "solidity": 0.2
             }
            },
            "type": "bar"
           }
          ],
          "barpolar": [
           {
            "marker": {
             "line": {
              "color": "#E5ECF6",
              "width": 0.5
             },
             "pattern": {
              "fillmode": "overlay",
              "size": 10,
              "solidity": 0.2
             }
            },
            "type": "barpolar"
           }
          ],
          "carpet": [
           {
            "aaxis": {
             "endlinecolor": "#2a3f5f",
             "gridcolor": "white",
             "linecolor": "white",
             "minorgridcolor": "white",
             "startlinecolor": "#2a3f5f"
            },
            "baxis": {
             "endlinecolor": "#2a3f5f",
             "gridcolor": "white",
             "linecolor": "white",
             "minorgridcolor": "white",
             "startlinecolor": "#2a3f5f"
            },
            "type": "carpet"
           }
          ],
          "choropleth": [
           {
            "colorbar": {
             "outlinewidth": 0,
             "ticks": ""
            },
            "type": "choropleth"
           }
          ],
          "contour": [
           {
            "colorbar": {
             "outlinewidth": 0,
             "ticks": ""
            },
            "colorscale": [
             [
              0,
              "#0d0887"
             ],
             [
              0.1111111111111111,
              "#46039f"
             ],
             [
              0.2222222222222222,
              "#7201a8"
             ],
             [
              0.3333333333333333,
              "#9c179e"
             ],
             [
              0.4444444444444444,
              "#bd3786"
             ],
             [
              0.5555555555555556,
              "#d8576b"
             ],
             [
              0.6666666666666666,
              "#ed7953"
             ],
             [
              0.7777777777777778,
              "#fb9f3a"
             ],
             [
              0.8888888888888888,
              "#fdca26"
             ],
             [
              1,
              "#f0f921"
             ]
            ],
            "type": "contour"
           }
          ],
          "contourcarpet": [
           {
            "colorbar": {
             "outlinewidth": 0,
             "ticks": ""
            },
            "type": "contourcarpet"
           }
          ],
          "heatmap": [
           {
            "colorbar": {
             "outlinewidth": 0,
             "ticks": ""
            },
            "colorscale": [
             [
              0,
              "#0d0887"
             ],
             [
              0.1111111111111111,
              "#46039f"
             ],
             [
              0.2222222222222222,
              "#7201a8"
             ],
             [
              0.3333333333333333,
              "#9c179e"
             ],
             [
              0.4444444444444444,
              "#bd3786"
             ],
             [
              0.5555555555555556,
              "#d8576b"
             ],
             [
              0.6666666666666666,
              "#ed7953"
             ],
             [
              0.7777777777777778,
              "#fb9f3a"
             ],
             [
              0.8888888888888888,
              "#fdca26"
             ],
             [
              1,
              "#f0f921"
             ]
            ],
            "type": "heatmap"
           }
          ],
          "heatmapgl": [
           {
            "colorbar": {
             "outlinewidth": 0,
             "ticks": ""
            },
            "colorscale": [
             [
              0,
              "#0d0887"
             ],
             [
              0.1111111111111111,
              "#46039f"
             ],
             [
              0.2222222222222222,
              "#7201a8"
             ],
             [
              0.3333333333333333,
              "#9c179e"
             ],
             [
              0.4444444444444444,
              "#bd3786"
             ],
             [
              0.5555555555555556,
              "#d8576b"
             ],
             [
              0.6666666666666666,
              "#ed7953"
             ],
             [
              0.7777777777777778,
              "#fb9f3a"
             ],
             [
              0.8888888888888888,
              "#fdca26"
             ],
             [
              1,
              "#f0f921"
             ]
            ],
            "type": "heatmapgl"
           }
          ],
          "histogram": [
           {
            "marker": {
             "pattern": {
              "fillmode": "overlay",
              "size": 10,
              "solidity": 0.2
             }
            },
            "type": "histogram"
           }
          ],
          "histogram2d": [
           {
            "colorbar": {
             "outlinewidth": 0,
             "ticks": ""
            },
            "colorscale": [
             [
              0,
              "#0d0887"
             ],
             [
              0.1111111111111111,
              "#46039f"
             ],
             [
              0.2222222222222222,
              "#7201a8"
             ],
             [
              0.3333333333333333,
              "#9c179e"
             ],
             [
              0.4444444444444444,
              "#bd3786"
             ],
             [
              0.5555555555555556,
              "#d8576b"
             ],
             [
              0.6666666666666666,
              "#ed7953"
             ],
             [
              0.7777777777777778,
              "#fb9f3a"
             ],
             [
              0.8888888888888888,
              "#fdca26"
             ],
             [
              1,
              "#f0f921"
             ]
            ],
            "type": "histogram2d"
           }
          ],
          "histogram2dcontour": [
           {
            "colorbar": {
             "outlinewidth": 0,
             "ticks": ""
            },
            "colorscale": [
             [
              0,
              "#0d0887"
             ],
             [
              0.1111111111111111,
              "#46039f"
             ],
             [
              0.2222222222222222,
              "#7201a8"
             ],
             [
              0.3333333333333333,
              "#9c179e"
             ],
             [
              0.4444444444444444,
              "#bd3786"
             ],
             [
              0.5555555555555556,
              "#d8576b"
             ],
             [
              0.6666666666666666,
              "#ed7953"
             ],
             [
              0.7777777777777778,
              "#fb9f3a"
             ],
             [
              0.8888888888888888,
              "#fdca26"
             ],
             [
              1,
              "#f0f921"
             ]
            ],
            "type": "histogram2dcontour"
           }
          ],
          "mesh3d": [
           {
            "colorbar": {
             "outlinewidth": 0,
             "ticks": ""
            },
            "type": "mesh3d"
           }
          ],
          "parcoords": [
           {
            "line": {
             "colorbar": {
              "outlinewidth": 0,
              "ticks": ""
             }
            },
            "type": "parcoords"
           }
          ],
          "pie": [
           {
            "automargin": true,
            "type": "pie"
           }
          ],
          "scatter": [
           {
            "marker": {
             "colorbar": {
              "outlinewidth": 0,
              "ticks": ""
             }
            },
            "type": "scatter"
           }
          ],
          "scatter3d": [
           {
            "line": {
             "colorbar": {
              "outlinewidth": 0,
              "ticks": ""
             }
            },
            "marker": {
             "colorbar": {
              "outlinewidth": 0,
              "ticks": ""
             }
            },
            "type": "scatter3d"
           }
          ],
          "scattercarpet": [
           {
            "marker": {
             "colorbar": {
              "outlinewidth": 0,
              "ticks": ""
             }
            },
            "type": "scattercarpet"
           }
          ],
          "scattergeo": [
           {
            "marker": {
             "colorbar": {
              "outlinewidth": 0,
              "ticks": ""
             }
            },
            "type": "scattergeo"
           }
          ],
          "scattergl": [
           {
            "marker": {
             "colorbar": {
              "outlinewidth": 0,
              "ticks": ""
             }
            },
            "type": "scattergl"
           }
          ],
          "scattermapbox": [
           {
            "marker": {
             "colorbar": {
              "outlinewidth": 0,
              "ticks": ""
             }
            },
            "type": "scattermapbox"
           }
          ],
          "scatterpolar": [
           {
            "marker": {
             "colorbar": {
              "outlinewidth": 0,
              "ticks": ""
             }
            },
            "type": "scatterpolar"
           }
          ],
          "scatterpolargl": [
           {
            "marker": {
             "colorbar": {
              "outlinewidth": 0,
              "ticks": ""
             }
            },
            "type": "scatterpolargl"
           }
          ],
          "scatterternary": [
           {
            "marker": {
             "colorbar": {
              "outlinewidth": 0,
              "ticks": ""
             }
            },
            "type": "scatterternary"
           }
          ],
          "surface": [
           {
            "colorbar": {
             "outlinewidth": 0,
             "ticks": ""
            },
            "colorscale": [
             [
              0,
              "#0d0887"
             ],
             [
              0.1111111111111111,
              "#46039f"
             ],
             [
              0.2222222222222222,
              "#7201a8"
             ],
             [
              0.3333333333333333,
              "#9c179e"
             ],
             [
              0.4444444444444444,
              "#bd3786"
             ],
             [
              0.5555555555555556,
              "#d8576b"
             ],
             [
              0.6666666666666666,
              "#ed7953"
             ],
             [
              0.7777777777777778,
              "#fb9f3a"
             ],
             [
              0.8888888888888888,
              "#fdca26"
             ],
             [
              1,
              "#f0f921"
             ]
            ],
            "type": "surface"
           }
          ],
          "table": [
           {
            "cells": {
             "fill": {
              "color": "#EBF0F8"
             },
             "line": {
              "color": "white"
             }
            },
            "header": {
             "fill": {
              "color": "#C8D4E3"
             },
             "line": {
              "color": "white"
             }
            },
            "type": "table"
           }
          ]
         },
         "layout": {
          "annotationdefaults": {
           "arrowcolor": "#2a3f5f",
           "arrowhead": 0,
           "arrowwidth": 1
          },
          "autotypenumbers": "strict",
          "coloraxis": {
           "colorbar": {
            "outlinewidth": 0,
            "ticks": ""
           }
          },
          "colorscale": {
           "diverging": [
            [
             0,
             "#8e0152"
            ],
            [
             0.1,
             "#c51b7d"
            ],
            [
             0.2,
             "#de77ae"
            ],
            [
             0.3,
             "#f1b6da"
            ],
            [
             0.4,
             "#fde0ef"
            ],
            [
             0.5,
             "#f7f7f7"
            ],
            [
             0.6,
             "#e6f5d0"
            ],
            [
             0.7,
             "#b8e186"
            ],
            [
             0.8,
             "#7fbc41"
            ],
            [
             0.9,
             "#4d9221"
            ],
            [
             1,
             "#276419"
            ]
           ],
           "sequential": [
            [
             0,
             "#0d0887"
            ],
            [
             0.1111111111111111,
             "#46039f"
            ],
            [
             0.2222222222222222,
             "#7201a8"
            ],
            [
             0.3333333333333333,
             "#9c179e"
            ],
            [
             0.4444444444444444,
             "#bd3786"
            ],
            [
             0.5555555555555556,
             "#d8576b"
            ],
            [
             0.6666666666666666,
             "#ed7953"
            ],
            [
             0.7777777777777778,
             "#fb9f3a"
            ],
            [
             0.8888888888888888,
             "#fdca26"
            ],
            [
             1,
             "#f0f921"
            ]
           ],
           "sequentialminus": [
            [
             0,
             "#0d0887"
            ],
            [
             0.1111111111111111,
             "#46039f"
            ],
            [
             0.2222222222222222,
             "#7201a8"
            ],
            [
             0.3333333333333333,
             "#9c179e"
            ],
            [
             0.4444444444444444,
             "#bd3786"
            ],
            [
             0.5555555555555556,
             "#d8576b"
            ],
            [
             0.6666666666666666,
             "#ed7953"
            ],
            [
             0.7777777777777778,
             "#fb9f3a"
            ],
            [
             0.8888888888888888,
             "#fdca26"
            ],
            [
             1,
             "#f0f921"
            ]
           ]
          },
          "colorway": [
           "#636efa",
           "#EF553B",
           "#00cc96",
           "#ab63fa",
           "#FFA15A",
           "#19d3f3",
           "#FF6692",
           "#B6E880",
           "#FF97FF",
           "#FECB52"
          ],
          "font": {
           "color": "#2a3f5f"
          },
          "geo": {
           "bgcolor": "white",
           "lakecolor": "white",
           "landcolor": "#E5ECF6",
           "showlakes": true,
           "showland": true,
           "subunitcolor": "white"
          },
          "hoverlabel": {
           "align": "left"
          },
          "hovermode": "closest",
          "mapbox": {
           "style": "light"
          },
          "paper_bgcolor": "white",
          "plot_bgcolor": "#E5ECF6",
          "polar": {
           "angularaxis": {
            "gridcolor": "white",
            "linecolor": "white",
            "ticks": ""
           },
           "bgcolor": "#E5ECF6",
           "radialaxis": {
            "gridcolor": "white",
            "linecolor": "white",
            "ticks": ""
           }
          },
          "scene": {
           "xaxis": {
            "backgroundcolor": "#E5ECF6",
            "gridcolor": "white",
            "gridwidth": 2,
            "linecolor": "white",
            "showbackground": true,
            "ticks": "",
            "zerolinecolor": "white"
           },
           "yaxis": {
            "backgroundcolor": "#E5ECF6",
            "gridcolor": "white",
            "gridwidth": 2,
            "linecolor": "white",
            "showbackground": true,
            "ticks": "",
            "zerolinecolor": "white"
           },
           "zaxis": {
            "backgroundcolor": "#E5ECF6",
            "gridcolor": "white",
            "gridwidth": 2,
            "linecolor": "white",
            "showbackground": true,
            "ticks": "",
            "zerolinecolor": "white"
           }
          },
          "shapedefaults": {
           "line": {
            "color": "#2a3f5f"
           }
          },
          "ternary": {
           "aaxis": {
            "gridcolor": "white",
            "linecolor": "white",
            "ticks": ""
           },
           "baxis": {
            "gridcolor": "white",
            "linecolor": "white",
            "ticks": ""
           },
           "bgcolor": "#E5ECF6",
           "caxis": {
            "gridcolor": "white",
            "linecolor": "white",
            "ticks": ""
           }
          },
          "title": {
           "x": 0.05
          },
          "xaxis": {
           "automargin": true,
           "gridcolor": "white",
           "linecolor": "white",
           "ticks": "",
           "title": {
            "standoff": 15
           },
           "zerolinecolor": "white",
           "zerolinewidth": 2
          },
          "yaxis": {
           "automargin": true,
           "gridcolor": "white",
           "linecolor": "white",
           "ticks": "",
           "title": {
            "standoff": 15
           },
           "zerolinecolor": "white",
           "zerolinewidth": 2
          }
         }
        },
        "title": {
         "text": "Resource Group Usage"
        },
        "width": 1000,
        "xaxis": {
         "title": {
          "text": "Resource Group"
         }
        },
        "yaxis": {
         "title": {
          "text": "Num Tasks Assigned"
         }
        }
       }
      }
     },
     "metadata": {},
     "output_type": "display_data"
    }
   ],
   "source": [
    "fig = go.Figure()\n",
    "res_groups = sorted(resource_groups.index)\n",
    "res_assignments = pd.concat([assignment_data.groupby('Resource').size().to_frame(\"NumTasks\"), \n",
    "                             resources[['ResourceGroup']]], axis=1).reset_index().set_index([\"Resource\", \"ResourceGroup\"]).fillna(0).astype(int).reset_index()\n",
    "\n",
    "for r in sorted(res_assignments.Resource.values, reverse=True):\n",
    "    group_tasks = pd.concat([resource_groups, res_assignments.set_index(['ResourceGroup', 'Resource']).xs(r, level=\"Resource\")], axis=1).fillna(0)['NumTasks']\n",
    "    fig.add_trace(go.Bar(name=r, \n",
    "                         x=res_groups, \n",
    "                         y=[group_tasks.loc[rg] for rg in res_groups],\n",
    "                         legendgroup='resource',\n",
    "                         legendgrouptitle_text=\"Resource\",))\n",
    "fig.add_trace(go.Scatter(x=res_groups, y=[resource_groups.MaxTasks.loc[rg] for rg in res_groups], name='Max', legendgroup='tasks', legendgrouptitle_text='Task Count Bounds'))\n",
    "fig.add_trace(go.Scatter(x=res_groups, y=[resource_groups.MinTasks.loc[rg] for rg in res_groups], name='Min', legendgroup='tasks'))\n",
    "fig.update_layout(barmode='stack', title=\"Resource Group Usage\", yaxis={'title':'Num Tasks Assigned'}, xaxis={'title':'Resource Group'}, autosize=False, height=500, width=1000)\n",
    "fig.add_annotation(\n",
    "            x='Lion',\n",
    "            y=resource_groups.query('ResourceGroup==\"Lion\"').MaxTasks.values[0],\n",
    "            text=\"Max Tasks for Resource Group\")\n",
    "fig.add_annotation(\n",
    "            x='Tiger',\n",
    "            y=resource_groups.query('ResourceGroup==\"Tiger\"').MinTasks.values[0],\n",
    "            text=\"Min Tasks for Resource Group\")"
   ]
  },
  {
   "cell_type": "code",
   "execution_count": null,
   "id": "0a2f51fd-1c5d-4c2a-ac83-91f19e4c99ec",
   "metadata": {},
   "outputs": [],
   "source": []
  }
 ],
 "metadata": {
  "kernelspec": {
   "display_name": "Python 3 (ipykernel)",
   "language": "python",
   "name": "python3"
  },
  "language_info": {
   "codemirror_mode": {
    "name": "ipython",
    "version": 3
   },
   "file_extension": ".py",
   "mimetype": "text/x-python",
   "name": "python",
   "nbconvert_exporter": "python",
   "pygments_lexer": "ipython3",
   "version": "3.9.12"
  }
 },
 "nbformat": 4,
 "nbformat_minor": 5
}
